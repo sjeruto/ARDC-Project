{
 "cells": [
  {
   "cell_type": "code",
   "execution_count": 1,
   "metadata": {},
   "outputs": [],
   "source": [
    "%load_ext autoreload\n",
    "%autoreload 2"
   ]
  },
  {
   "cell_type": "code",
   "execution_count": 2,
   "metadata": {},
   "outputs": [],
   "source": [
    "import json"
   ]
  },
  {
   "cell_type": "code",
   "execution_count": 12,
   "metadata": {},
   "outputs": [],
   "source": [
    "# Opening json file\n",
    "import os\n",
    "import sys\n",
    "import pandas as pd\n",
    "\n",
    "file = open(\"/Users/naeeramin/Documents/UTS_3rd_semester/ilab2/github_repo/ARDC-Project/results2022.json\", \"r\")"
   ]
  },
  {
   "cell_type": "code",
   "execution_count": 13,
   "metadata": {},
   "outputs": [],
   "source": [
    "data = json.loads(file.read())"
   ]
  },
  {
   "cell_type": "code",
   "execution_count": 30,
   "metadata": {},
   "outputs": [
    {
     "name": "stdout",
     "output_type": "stream",
     "text": [
      "251\n",
      "237\n",
      "116\n",
      "88\n",
      "Percentage of successful Google Queries: 94.42231075697211\n",
      "Percentage of Correct Profiles Scraped: 48.9451476793249\n",
      "Percentage of Employees with Government Experience from correct profiles scraped: 75.86206896551724\n"
     ]
    }
   ],
   "source": [
    "totalEmployees = 0 \n",
    "successfulGoogleQuery = 0\n",
    "correctProfileScraped = 0\n",
    "workForGov = 0\n",
    "for employees in data:\n",
    "    totalEmployees += 1\n",
    "    if employees[\"SuccessfulGoogleQuery\"]:\n",
    "        successfulGoogleQuery += 1\n",
    "        for profiles in employees[\"ProfilesScraped\"]:\n",
    "            if profiles[\"CorrectName\"] and profiles[\"CorrectCompany\"]:\n",
    "                correctProfileScraped += 1\n",
    "                if profiles[\"WorkedForGovernment\"]:\n",
    "                    workForGov += 1\n",
    "\n",
    "print(totalEmployees)\n",
    "print(successfulGoogleQuery)\n",
    "print(correctProfileScraped)\n",
    "print(workForGov)\n",
    "\n",
    "print(\"Percentage of successful Google Queries: \" + str((successfulGoogleQuery/totalEmployees)*100))\n",
    "print(\"Percentage of Correct Profiles Scraped: \" + str((correctProfileScraped/successfulGoogleQuery)*100))\n",
    "print(\"Percentage of Employees with Government Experience from correct profiles scraped: \" + str((workForGov/correctProfileScraped)*100))\n",
    "\n",
    "        "
   ]
  }
 ],
 "metadata": {
  "kernelspec": {
   "display_name": "Python 3.10.2 64-bit",
   "language": "python",
   "name": "python3"
  },
  "language_info": {
   "codemirror_mode": {
    "name": "ipython",
    "version": 3
   },
   "file_extension": ".py",
   "mimetype": "text/x-python",
   "name": "python",
   "nbconvert_exporter": "python",
   "pygments_lexer": "ipython3",
   "version": "3.10.2"
  },
  "orig_nbformat": 4,
  "vscode": {
   "interpreter": {
    "hash": "aee8b7b246df8f9039afb4144a1f6fd8d2ca17a180786b69acc140d282b71a49"
   }
  }
 },
 "nbformat": 4,
 "nbformat_minor": 2
}
