{
 "cells": [
  {
   "cell_type": "code",
   "execution_count": 1,
   "metadata": {},
   "outputs": [],
   "source": [
    "%load_ext autoreload\n",
    "%autoreload 2"
   ]
  },
  {
   "cell_type": "code",
   "execution_count": 2,
   "metadata": {},
   "outputs": [],
   "source": [
    "# https://stackoverflow.com/questions/34478398/import-local-function-from-a-module-housed-in-another-directory-with-relative-im\n",
    "# This bit of code allows me to import modules for adjacent folders:\n",
    "\n",
    "import os\n",
    "import sys\n",
    "module_path = os.path.abspath(os.path.join('..'))\n",
    "if module_path not in sys.path:\n",
    "    sys.path.append(module_path)"
   ]
  },
  {
   "cell_type": "code",
   "execution_count": 7,
   "metadata": {},
   "outputs": [
    {
     "name": "stdout",
     "output_type": "stream",
     "text": [
      "Collecting sqlalchemy_utils\n",
      "  Downloading SQLAlchemy_Utils-0.38.3-py3-none-any.whl (100 kB)\n",
      "\u001b[2K     \u001b[90m━━━━━━━━━━━━━━━━━━━━━━━━━━━━━━━━━━━━━━━\u001b[0m \u001b[32m100.3/100.3 kB\u001b[0m \u001b[31m1.5 MB/s\u001b[0m eta \u001b[36m0:00:00\u001b[0ma \u001b[36m0:00:01\u001b[0m\n",
      "\u001b[?25hRequirement already satisfied: importlib-metadata in /home/mick/git/iLab2/venv/lib/python3.7/site-packages (from sqlalchemy_utils) (4.12.0)\n",
      "Requirement already satisfied: SQLAlchemy>=1.3 in /home/mick/git/iLab2/venv/lib/python3.7/site-packages (from sqlalchemy_utils) (1.4.40)\n",
      "Requirement already satisfied: greenlet!=0.4.17 in /home/mick/git/iLab2/venv/lib/python3.7/site-packages (from SQLAlchemy>=1.3->sqlalchemy_utils) (1.1.2)\n",
      "Requirement already satisfied: zipp>=0.5 in /home/mick/git/iLab2/venv/lib/python3.7/site-packages (from importlib-metadata->sqlalchemy_utils) (3.8.1)\n",
      "Requirement already satisfied: typing-extensions>=3.6.4 in /home/mick/git/iLab2/venv/lib/python3.7/site-packages (from importlib-metadata->sqlalchemy_utils) (4.3.0)\n",
      "Installing collected packages: sqlalchemy_utils\n",
      "Successfully installed sqlalchemy_utils-0.38.3\n"
     ]
    }
   ],
   "source": [
    "#!pip install selenium\n",
    "# !pip install --upgrade pip\n",
    "# !pip install sqlalchemy\n",
    "!pip install sqlalchemy_utils"
   ]
  },
  {
   "cell_type": "code",
   "execution_count": 4,
   "metadata": {},
   "outputs": [],
   "source": [
    "from src.scrappers.LobbyistNswScrapper import *\n",
    "import json\n",
    "scrapper = LobbyistNswScrapper()\n",
    "lobbyists = scrapper.get_lobbyists()\n",
    "\n",
    "scrapper.populate_details(lobbyists[0])\n",
    "\n",
    "for client in lobbyists[0].clients:\n",
    "    print(f\"{json.dumps(client.__dict__)}\")\n",
    "\n",
    "\n",
    "scrapper.close()"
   ]
  },
  {
   "cell_type": "code",
   "execution_count": 54,
   "metadata": {},
   "outputs": [],
   "source": [
    "import json\n",
    "for client in lobbyists[0].clients:\n",
    "    print(f\"{json.dumps(client.__dict__)}\")"
   ]
  },
  {
   "cell_type": "markdown",
   "metadata": {},
   "source": [
    "## Using Google to Search LinkedIn"
   ]
  },
  {
   "cell_type": "code",
   "execution_count": 15,
   "metadata": {},
   "outputs": [],
   "source": [
    "#!pip install requests"
   ]
  },
  {
   "cell_type": "code",
   "execution_count": 20,
   "metadata": {},
   "outputs": [],
   "source": [
    "\n",
    "import requests as re\n",
    "\n",
    "\n",
    "from src.secrets import secrets as sc\n",
    "import json"
   ]
  },
  {
   "cell_type": "code",
   "execution_count": 56,
   "metadata": {},
   "outputs": [],
   "source": [
    "def custom_search(search_term, start = 1):\n",
    "    custom_search_url = f\"https://www.googleapis.com/customsearch/v1?key={sc.google_customsearch_api_key}&cx={sc.google_programmable_search_engine_id}&q={search_term}&start={start}\"\n",
    "    result = re.get(custom_search_url)\n",
    "    return result.json()\n",
    "\n",
    "def print_results(results):\n",
    "    for item in results['items']:\n",
    "        print(item['title'])\n",
    "        print(item['link'])"
   ]
  },
  {
   "cell_type": "markdown",
   "metadata": {},
   "source": [
    "This is what my profile link looks like:\n",
    "https://www.linkedin.com/in/michael-gordon-b6698051/"
   ]
  },
  {
   "cell_type": "code",
   "execution_count": 73,
   "metadata": {},
   "outputs": [
    {
     "name": "stdout",
     "output_type": "stream",
     "text": [
      "Sviatoslav Didukh - Associate Director, Experience Design - EPAM ...\n",
      "https://ua.linkedin.com/in/sviatoslavdidukh\n",
      "Michael Gordon | Harrison Street\n",
      "https://www.harrisonst.com/leadership/michael-gordon/\n",
      "Michael Gordon - Business Consultant - Self Employed | LinkedIn\n",
      "https://tt.linkedin.com/in/michael-gordon-3b4a4723\n",
      "Our Team - Group Gordon\n",
      "https://groupgordon.com/people/\n",
      "100+ perfiles de «Michael Gordon» | LinkedIn\n",
      "https://bo.linkedin.com/pub/dir/Michael/Gordon/ca-0-Canada\n",
      "Team | Angelo Gordon\n",
      "https://www.angelogordon.com/team/\n",
      "Michael Gordon - New Ireland Assurance - LinkedIn\n",
      "https://ie.linkedin.com/in/michaelgordonmjg\n",
      "NJDEP New Jersey Department of Environmental Protection\n",
      "https://www.nj.gov/dep/easyaccess/commissoffice.htm\n",
      "Amrita Samantasinghar - Software Engineer, Sr I - LinkedIn\n",
      "https://in.linkedin.com/in/amrita-samantasinghar\n",
      "Michael Gordon - Tshwane University of Technology - LinkedIn\n",
      "https://za.linkedin.com/in/michael-gordon-b0831521\n"
     ]
    }
   ],
   "source": [
    "mgordon_result = custom_search('\"Michael Gordon\" senior software LinkedIn', 21)\n",
    "print_results(mgordon_result)"
   ]
  },
  {
   "cell_type": "code",
   "execution_count": 67,
   "metadata": {},
   "outputs": [
    {
     "name": "stdout",
     "output_type": "stream",
     "text": [
      "Alyssa Clark - Administrative Coordinator - UPASS, HELPS - LinkedIn\n",
      "https://au.linkedin.com/in/alyssa-clark-428588192\n",
      "Jung Gyu Park - Software Engineer - SafetyCulture | LinkedIn\n",
      "https://au.linkedin.com/in/jung-gyu-park-5b01a21b\n",
      "Ciaran Cullen - Head of Talent - SafetyCulture | LinkedIn\n",
      "https://au.linkedin.com/in/ciarancullen\n",
      "Shuvra Sikder - Camden Council NSW Australia - LinkedIn\n",
      "https://au.linkedin.com/in/shuvra-sikder-722126196\n",
      "Anthony Muscat - Senior Frontend Developer - Pearson | LinkedIn\n",
      "https://au.linkedin.com/in/anthony-muscat-b829676\n"
     ]
    }
   ],
   "source": [
    "namin_result = custom_search('\"Naeer Amin\" LinkedIn')\n",
    "print_results(namin_result)"
   ]
  },
  {
   "cell_type": "code",
   "execution_count": 68,
   "metadata": {},
   "outputs": [
    {
     "name": "stdout",
     "output_type": "stream",
     "text": [
      "Sharon Chemweno - Ben-Gurion University of the Negev - LinkedIn\n",
      "https://ke.linkedin.com/in/sharon-chemweno-b21b8517a\n",
      "Ruth Cherogony - Project Intern - LinkedIn\n",
      "https://il.linkedin.com/in/ruth-cherogony-749692234\n",
      "100+ perfiles de «Chemweno» | LinkedIn\n",
      "https://bo.linkedin.com/pub/dir/+/Chemweno/ke-0-Kenya\n",
      "Jacob Maundu - Resolution Insurance Kenya - LinkedIn\n",
      "https://ke.linkedin.com/in/jacob-maundu-5433a0173\n",
      "Tania Acuna - Ben Gurion University of the Negev - LinkedIn\n",
      "https://il.linkedin.com/in/tania-acuna-9a51a7b3\n",
      "Beatrice Wambui - Case Manager - RefugePoint | LinkedIn\n",
      "https://www.linkedin.com/in/beatrice-wambui-844855ba\n",
      "Felecien NDAYISHIMIYE - WUA Technician - LinkedIn Rwanda\n",
      "https://rw.linkedin.com/in/felecien-ndayishimiye-4a687a206\n",
      "Jason Dorey - Director of Academics - CanGlory Education | LinkedIn\n",
      "https://ca.linkedin.com/in/jason-dorey-b10308108\n",
      "Pauline Ang'ang'o - Managing Editor - Genesis Tech | LinkedIn\n",
      "https://hu.linkedin.com/in/pauline-ang-ang-o-194b55128\n",
      "Mayumi Evangelista - Immersed in English - LinkedIn\n",
      "https://ca.linkedin.com/in/mayumievangelista\n"
     ]
    }
   ],
   "source": [
    "schemweno_result = custom_search('\"Sharon Chemweno\" LinkedIn')\n",
    "print_results(schemweno_result)"
   ]
  },
  {
   "cell_type": "code",
   "execution_count": 69,
   "metadata": {},
   "outputs": [
    {
     "name": "stdout",
     "output_type": "stream",
     "text": [
      "Gerardo Restrepo - Senior Account Executive - LinkedIn\n",
      "https://www.linkedin.com/in/gerardo-restrepo-7239757\n",
      "Gerardo Restrepo - Professeur - Université de Sherbrooke | LinkedIn\n",
      "https://ca.linkedin.com/in/gerardo-restrepo-675aa236\n",
      "Gerardo Bohorquez - Colombia | Perfil profesional | LinkedIn\n",
      "https://co.linkedin.com/in/gerardo-bohorquez-a7676290\n",
      "40+ perfiles de «Bohorquez» | LinkedIn\n",
      "https://bo.linkedin.com/pub/dir/+/Bohorquez/au-0-Australia\n",
      "F5 group F5 group - Marketing Manager - F5 group | LinkedIn\n",
      "https://co.linkedin.com/in/f5-group-f5-group-648a591b\n",
      "Passiona Cottee - A/Director - LinkedIn\n",
      "https://au.linkedin.com/in/passiona\n",
      "Understanding Hierarchies using Dendrograms | by Yash Gupta ...\n",
      "https://medium.com/dssimplified/understanding-hierarchies-using-dendrograms-e3aef7ac5ea4\n"
     ]
    }
   ],
   "source": [
    "gbohorquez_result = custom_search('\"Gerardo Bohorquez Restrepo\" LinkedIn')\n",
    "print_results(gbohorquez_result)"
   ]
  }
 ],
 "metadata": {
  "kernelspec": {
   "display_name": "Python 3.7.5 ('venv': venv)",
   "language": "python",
   "name": "python3"
  },
  "language_info": {
   "codemirror_mode": {
    "name": "ipython",
    "version": 3
   },
   "file_extension": ".py",
   "mimetype": "text/x-python",
   "name": "python",
   "nbconvert_exporter": "python",
   "pygments_lexer": "ipython3",
   "version": "3.7.5"
  },
  "orig_nbformat": 4,
  "vscode": {
   "interpreter": {
    "hash": "4193285b78e1ba392e161cc96f893a22efa234824c7633599ef7ab1b092a3d13"
   }
  }
 },
 "nbformat": 4,
 "nbformat_minor": 2
}
