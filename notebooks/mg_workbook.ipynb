{
 "cells": [
  {
   "cell_type": "code",
   "execution_count": 1,
   "metadata": {},
   "outputs": [
    {
     "name": "stdout",
     "output_type": "stream",
     "text": [
      "Collecting selenium\n",
      "\u001b[?25l  Downloading https://files.pythonhosted.org/packages/5b/ac/3293d003c34cc74df6356a7b96c74f4b74a12c994ac3bfedcf866fb0c5f7/selenium-4.4.0-py3-none-any.whl (985kB)\n",
      "\u001b[K     |████████████████████████████████| 993kB 2.7MB/s eta 0:00:01\n",
      "\u001b[?25hRequirement already satisfied: urllib3[secure,socks]~=1.26 in /home/mick/git/iLab2/venv/lib/python3.7/site-packages (from selenium) (1.26.11)\n",
      "Collecting trio~=0.17 (from selenium)\n",
      "\u001b[?25l  Downloading https://files.pythonhosted.org/packages/a9/bc/aef5a15725e95df49d41838dd816b95aad7df07de9f87e4ff453a3326615/trio-0.21.0-py3-none-any.whl (358kB)\n",
      "\u001b[K     |████████████████████████████████| 368kB 4.1MB/s eta 0:00:01\n",
      "\u001b[?25hCollecting trio-websocket~=0.9 (from selenium)\n",
      "  Downloading https://files.pythonhosted.org/packages/db/c5/b5e8bc1f40568a354f2a9cc296b8892605a9d2f22e725290fc33836dd2a3/trio_websocket-0.9.2-py3-none-any.whl\n",
      "Collecting cryptography>=1.3.4; extra == \"secure\" (from urllib3[secure,socks]~=1.26->selenium)\n",
      "\u001b[?25l  Downloading https://files.pythonhosted.org/packages/ca/44/2384260ffa2fa974894ec5f70896b328cd55a19dc367cf5c7ef32d5b3ba8/cryptography-37.0.4-cp36-abi3-manylinux_2_12_x86_64.manylinux2010_x86_64.whl (4.1MB)\n",
      "\u001b[K     |████████████████████████████████| 4.1MB 3.7MB/s eta 0:00:01\n",
      "\u001b[?25hCollecting pyOpenSSL>=0.14; extra == \"secure\" (from urllib3[secure,socks]~=1.26->selenium)\n",
      "\u001b[?25l  Downloading https://files.pythonhosted.org/packages/d5/9f/9c0e3288b85f907a008f9d31318b0e4de31b2f67724a8745e633741f609c/pyOpenSSL-22.0.0-py2.py3-none-any.whl (55kB)\n",
      "\u001b[K     |████████████████████████████████| 61kB 4.4MB/s eta 0:00:01\n",
      "\u001b[?25hRequirement already satisfied: certifi; extra == \"secure\" in /home/mick/git/iLab2/venv/lib/python3.7/site-packages (from urllib3[secure,socks]~=1.26->selenium) (2022.6.15)\n",
      "Requirement already satisfied: idna>=2.0.0; extra == \"secure\" in /home/mick/git/iLab2/venv/lib/python3.7/site-packages (from urllib3[secure,socks]~=1.26->selenium) (3.3)\n",
      "Collecting PySocks!=1.5.7,<2.0,>=1.5.6; extra == \"socks\" (from urllib3[secure,socks]~=1.26->selenium)\n",
      "  Downloading https://files.pythonhosted.org/packages/8d/59/b4572118e098ac8e46e399a1dd0f2d85403ce8bbaad9ec79373ed6badaf9/PySocks-1.7.1-py3-none-any.whl\n",
      "Collecting sniffio (from trio~=0.17->selenium)\n",
      "  Downloading https://files.pythonhosted.org/packages/52/b0/7b2e028b63d092804b6794595871f936aafa5e9322dcaaad50ebf67445b3/sniffio-1.2.0-py3-none-any.whl\n",
      "Collecting sortedcontainers (from trio~=0.17->selenium)\n",
      "  Downloading https://files.pythonhosted.org/packages/32/46/9cb0e58b2deb7f82b84065f37f3bffeb12413f947f9388e4cac22c4621ce/sortedcontainers-2.4.0-py2.py3-none-any.whl\n",
      "Collecting attrs>=19.2.0 (from trio~=0.17->selenium)\n",
      "\u001b[?25l  Downloading https://files.pythonhosted.org/packages/f2/bc/d817287d1aa01878af07c19505fafd1165cd6a119e9d0821ca1d1c20312d/attrs-22.1.0-py2.py3-none-any.whl (58kB)\n",
      "\u001b[K     |████████████████████████████████| 61kB 2.5MB/s eta 0:00:01\n",
      "\u001b[?25hCollecting outcome (from trio~=0.17->selenium)\n",
      "  Downloading https://files.pythonhosted.org/packages/e9/4f/2f2d3f65d851852712b4de3fd0cfdcec9c5e9a9c347430e004ba770ef4db/outcome-1.2.0-py2.py3-none-any.whl\n",
      "Collecting async-generator>=1.9 (from trio~=0.17->selenium)\n",
      "  Using cached https://files.pythonhosted.org/packages/71/52/39d20e03abd0ac9159c162ec24b93fbcaa111e8400308f2465432495ca2b/async_generator-1.10-py3-none-any.whl\n",
      "Collecting wsproto>=0.14 (from trio-websocket~=0.9->selenium)\n",
      "  Downloading https://files.pythonhosted.org/packages/4b/6e/5f8c3e8418966f50d028e336f0c2c568f8522577183678923609d4d24924/wsproto-1.1.0-py3-none-any.whl\n",
      "Collecting cffi>=1.12 (from cryptography>=1.3.4; extra == \"secure\"->urllib3[secure,socks]~=1.26->selenium)\n",
      "\u001b[?25l  Downloading https://files.pythonhosted.org/packages/2b/a8/050ab4f0c3d4c1b8aaa805f70e26e84d0e27004907c5b8ecc1d31815f92a/cffi-1.15.1.tar.gz (508kB)\n",
      "\u001b[K     |████████████████████████████████| 512kB 2.2MB/s eta 0:00:01\n",
      "\u001b[?25hCollecting h11<1,>=0.9.0 (from wsproto>=0.14->trio-websocket~=0.9->selenium)\n",
      "\u001b[?25l  Downloading https://files.pythonhosted.org/packages/19/d2/32a15a4955be1b8114a1c570999eefd31279c7f9aa2d2a43d492a79b53c5/h11-0.13.0-py3-none-any.whl (58kB)\n",
      "\u001b[K     |████████████████████████████████| 61kB 209kB/s eta 0:00:01\n",
      "\u001b[?25hCollecting pycparser (from cffi>=1.12->cryptography>=1.3.4; extra == \"secure\"->urllib3[secure,socks]~=1.26->selenium)\n",
      "\u001b[?25l  Downloading https://files.pythonhosted.org/packages/62/d5/5f610ebe421e85889f2e55e33b7f9a6795bd982198517d912eb1c76e1a53/pycparser-2.21-py2.py3-none-any.whl (118kB)\n",
      "\u001b[K     |████████████████████████████████| 122kB 858kB/s eta 0:00:01\n",
      "\u001b[?25hCollecting typing-extensions; python_version < \"3.8\" (from h11<1,>=0.9.0->wsproto>=0.14->trio-websocket~=0.9->selenium)\n",
      "  Downloading https://files.pythonhosted.org/packages/ed/d6/2afc375a8d55b8be879d6b4986d4f69f01115e795e36827fd3a40166028b/typing_extensions-4.3.0-py3-none-any.whl\n",
      "Installing collected packages: sniffio, sortedcontainers, attrs, outcome, async-generator, trio, typing-extensions, h11, wsproto, trio-websocket, selenium, pycparser, cffi, cryptography, pyOpenSSL, PySocks\n",
      "  Running setup.py install for cffi ... \u001b[?25ldone\n",
      "\u001b[?25hSuccessfully installed PySocks-1.7.1 async-generator-1.10 attrs-22.1.0 cffi-1.15.1 cryptography-37.0.4 h11-0.13.0 outcome-1.2.0 pyOpenSSL-22.0.0 pycparser-2.21 selenium-4.4.0 sniffio-1.2.0 sortedcontainers-2.4.0 trio-0.21.0 trio-websocket-0.9.2 typing-extensions-4.3.0 wsproto-1.1.0\n",
      "\u001b[33mWARNING: You are using pip version 19.2.3, however version 22.2.2 is available.\n",
      "You should consider upgrading via the 'pip install --upgrade pip' command.\u001b[0m\n"
     ]
    }
   ],
   "source": [
    "#!pip install selenium"
   ]
  },
  {
   "cell_type": "code",
   "execution_count": 49,
   "metadata": {},
   "outputs": [],
   "source": [
    "from selenium import webdriver\n",
    "from selenium.webdriver.common.by import By\n",
    "from selenium.webdriver.chrome.options import Options\n",
    "from time import sleep\n",
    "\n",
    "\n",
    "class LobbyistNsw:\n",
    "    def __init__(self, name, abn, trading_name, on_watch_list, status, details_anchor):\n",
    "        self.name = name\n",
    "        self.abn = abn\n",
    "        self.trading_name = trading_name\n",
    "        self.on_watch_list = on_watch_list\n",
    "        self.status = status\n",
    "        self.details_anchor = details_anchor\n",
    "    \n",
    "    @property\n",
    "    def clients(self):\n",
    "        return self._clients\n",
    "\n",
    "    @clients.setter\n",
    "    def clients(self, value):\n",
    "        self._clients = value\n",
    "\n",
    "class LobbyistNsw_Client:\n",
    "    def __init__(self, name, abn, active, foreign_principal, countries, date_added):\n",
    "        self.name = name\n",
    "        self.abn = abn\n",
    "        self.active = active\n",
    "        self.foreign_principal = foreign_principal\n",
    "        self.countries = countries\n",
    "        self.date_added = date_added\n",
    "\n",
    "\n",
    "\n",
    "class LobbyistNswScrapper:\n",
    "    def __init__(self):\n",
    "        chrome_options = Options()\n",
    "        chrome_options.add_argument(\"--headless\")\n",
    "        self.driver = webdriver.Chrome(options = chrome_options)\n",
    "        self.driver.get(\"https://lobbyists.elections.nsw.gov.au/whoisontheregister\")\n",
    "\n",
    "    def get_lobbyists(self):\n",
    "        lobbyists = []\n",
    "        dataTableElement = self.driver.find_element(By.CLASS_NAME, 'dataTable')\n",
    "        rows = dataTableElement.find_elements(By.CSS_SELECTOR, 'tbody tr[role=\"row\"]')\n",
    "        for row in rows:\n",
    "            columns = row.find_elements(By.CSS_SELECTOR, \"*\")\n",
    "            anchor = columns[0].find_element(By.TAG_NAME, 'a')\n",
    "            lobbyist = LobbyistNsw(\n",
    "                name = columns[0].text,\n",
    "                abn = columns[1].text,\n",
    "                trading_name = columns[2].text,\n",
    "                on_watch_list = columns[3].text,\n",
    "                status = columns[4].text,\n",
    "                details_anchor = anchor\n",
    "            )\n",
    "            lobbyists.append(lobbyist)\n",
    "        return lobbyists\n",
    "\n",
    "    def populate_details(self, lobbyist: LobbyistNsw):\n",
    "        lobbyist.clients = []\n",
    "        lobbyist.details_anchor.click()\n",
    "        sleep(1)\n",
    "        modalBody = self.driver.find_element(By.CLASS_NAME, 'modal-body')\n",
    "        rows = modalBody.find_elements(By.CSS_SELECTOR, '#CLI .dataTable tbody tr')\n",
    "        for row in rows:\n",
    "            columns = row.find_elements(By.CSS_SELECTOR, 'td')\n",
    "            activeImg = row.find_element(By.CLASS_NAME, 'checkImg')\n",
    "            abnElement = columns[1].find_element(By.CSS_SELECTOR, 'span[id^=\"j_id\"] a')\n",
    "            foreignPrincipalElement = columns[3]\n",
    "            countriesElement = columns[4]\n",
    "            client = LobbyistNsw_Client(\n",
    "                name = columns[0].get_attribute('innerHTML'),\n",
    "                abn = abnElement.get_attribute('innerHTML'),\n",
    "                active = activeImg.get_attribute('alt') == 'Checked',\n",
    "                foreign_principal = foreignPrincipalElement.text,\n",
    "                countries = countriesElement.text,\n",
    "                date_added = columns[5].get_attribute('innerHTML')\n",
    "            )\n",
    "            lobbyist.clients.append(client)\n",
    "\n",
    "    def close(self):\n",
    "        self.driver.quit()\n"
   ]
  },
  {
   "cell_type": "code",
   "execution_count": 50,
   "metadata": {},
   "outputs": [
    {
     "name": "stdout",
     "output_type": "stream",
     "text": [
      "AUSTRALIA CHINA BUSINESS COUNCIL\n",
      "AUSTRALIAN FUNERAL DIRECTORS ASSOCIATION LTD\n",
      "INVOCARE LIMITED\n",
      "PARED LTD\n",
      "{\"name\": \"AUSTRALIA CHINA BUSINESS COUNCIL\", \"abn\": \"57075909625\", \"active\": true, \"foreign_principal\": \"\", \"countries\": \"\", \"date_added\": \"06 Jan 2022\"}\n",
      "{\"name\": \"AUSTRALIAN FUNERAL DIRECTORS ASSOCIATION LTD\", \"abn\": \"33007331580\", \"active\": true, \"foreign_principal\": \"\", \"countries\": \"\", \"date_added\": \"06 Jan 2022\"}\n",
      "{\"name\": \"INVOCARE LIMITED\", \"abn\": \"42096437393\", \"active\": true, \"foreign_principal\": \"\", \"countries\": \"\", \"date_added\": \"06 Jan 2022\"}\n",
      "{\"name\": \"PARED LTD\", \"abn\": \"40002343615\", \"active\": true, \"foreign_principal\": \"\", \"countries\": \"\", \"date_added\": \"06 Jan 2022\"}\n"
     ]
    }
   ],
   "source": [
    "import json\n",
    "scrapper = LobbyistNswScrapper()\n",
    "lobbyists = scrapper.get_lobbyists()\n",
    "\n",
    "scrapper.populate_details(lobbyists[0])\n",
    "\n",
    "for client in lobbyists[0].clients:\n",
    "    print(f\"{json.dumps(client.__dict__)}\")\n",
    "\n",
    "\n",
    "scrapper.close()"
   ]
  },
  {
   "cell_type": "code",
   "execution_count": 48,
   "metadata": {},
   "outputs": [
    {
     "name": "stdout",
     "output_type": "stream",
     "text": [
      "{\"name\": \"AUSTRALIA CHINA BUSINESS COUNCIL\", \"abn\": \"57075909625\", \"active\": true, \"foreign_principal\": true, \"countries\": \"\", \"date_added\": \"06 Jan 2022\"}\n",
      "{\"name\": \"AUSTRALIAN FUNERAL DIRECTORS ASSOCIATION LTD\", \"abn\": \"33007331580\", \"active\": true, \"foreign_principal\": true, \"countries\": \"\", \"date_added\": \"06 Jan 2022\"}\n",
      "{\"name\": \"INVOCARE LIMITED\", \"abn\": \"42096437393\", \"active\": true, \"foreign_principal\": true, \"countries\": \"\", \"date_added\": \"06 Jan 2022\"}\n",
      "{\"name\": \"PARED LTD\", \"abn\": \"40002343615\", \"active\": true, \"foreign_principal\": true, \"countries\": \"\", \"date_added\": \"06 Jan 2022\"}\n"
     ]
    }
   ],
   "source": [
    "import json\n",
    "for client in lobbyists[0].clients:\n",
    "    print(f\"{json.dumps(client.__dict__)}\")"
   ]
  },
  {
   "cell_type": "markdown",
   "metadata": {},
   "source": [
    "## Using Google to Search LinkedIn"
   ]
  },
  {
   "cell_type": "code",
   "execution_count": 15,
   "metadata": {},
   "outputs": [],
   "source": [
    "#!pip install requests"
   ]
  },
  {
   "cell_type": "code",
   "execution_count": 20,
   "metadata": {},
   "outputs": [],
   "source": [
    "# https://stackoverflow.com/questions/34478398/import-local-function-from-a-module-housed-in-another-directory-with-relative-im\n",
    "# This bit of code allows me to import modules for adjacent folders:\n",
    "import os\n",
    "import sys\n",
    "import requests as re\n",
    "module_path = os.path.abspath(os.path.join('..'))\n",
    "if module_path not in sys.path:\n",
    "    sys.path.append(module_path)\n",
    "\n",
    "from src.secrets import secrets as sc\n",
    "import json"
   ]
  },
  {
   "cell_type": "code",
   "execution_count": 56,
   "metadata": {},
   "outputs": [],
   "source": [
    "def custom_search(search_term, start = 1):\n",
    "    custom_search_url = f\"https://www.googleapis.com/customsearch/v1?key={sc.google_customsearch_api_key}&cx={sc.google_programmable_search_engine_id}&q={search_term}&start={start}\"\n",
    "    result = re.get(custom_search_url)\n",
    "    return result.json()\n",
    "\n",
    "def print_results(results):\n",
    "    for item in results['items']:\n",
    "        print(item['title'])\n",
    "        print(item['link'])"
   ]
  },
  {
   "cell_type": "markdown",
   "metadata": {},
   "source": [
    "This is what my profile link looks like:\n",
    "https://www.linkedin.com/in/michael-gordon-b6698051/"
   ]
  },
  {
   "cell_type": "code",
   "execution_count": 73,
   "metadata": {},
   "outputs": [
    {
     "name": "stdout",
     "output_type": "stream",
     "text": [
      "Sviatoslav Didukh - Associate Director, Experience Design - EPAM ...\n",
      "https://ua.linkedin.com/in/sviatoslavdidukh\n",
      "Michael Gordon | Harrison Street\n",
      "https://www.harrisonst.com/leadership/michael-gordon/\n",
      "Michael Gordon - Business Consultant - Self Employed | LinkedIn\n",
      "https://tt.linkedin.com/in/michael-gordon-3b4a4723\n",
      "Our Team - Group Gordon\n",
      "https://groupgordon.com/people/\n",
      "100+ perfiles de «Michael Gordon» | LinkedIn\n",
      "https://bo.linkedin.com/pub/dir/Michael/Gordon/ca-0-Canada\n",
      "Team | Angelo Gordon\n",
      "https://www.angelogordon.com/team/\n",
      "Michael Gordon - New Ireland Assurance - LinkedIn\n",
      "https://ie.linkedin.com/in/michaelgordonmjg\n",
      "NJDEP New Jersey Department of Environmental Protection\n",
      "https://www.nj.gov/dep/easyaccess/commissoffice.htm\n",
      "Amrita Samantasinghar - Software Engineer, Sr I - LinkedIn\n",
      "https://in.linkedin.com/in/amrita-samantasinghar\n",
      "Michael Gordon - Tshwane University of Technology - LinkedIn\n",
      "https://za.linkedin.com/in/michael-gordon-b0831521\n"
     ]
    }
   ],
   "source": [
    "mgordon_result = custom_search('\"Michael Gordon\" senior software LinkedIn', 21)\n",
    "print_results(mgordon_result)"
   ]
  },
  {
   "cell_type": "code",
   "execution_count": 67,
   "metadata": {},
   "outputs": [
    {
     "name": "stdout",
     "output_type": "stream",
     "text": [
      "Alyssa Clark - Administrative Coordinator - UPASS, HELPS - LinkedIn\n",
      "https://au.linkedin.com/in/alyssa-clark-428588192\n",
      "Jung Gyu Park - Software Engineer - SafetyCulture | LinkedIn\n",
      "https://au.linkedin.com/in/jung-gyu-park-5b01a21b\n",
      "Ciaran Cullen - Head of Talent - SafetyCulture | LinkedIn\n",
      "https://au.linkedin.com/in/ciarancullen\n",
      "Shuvra Sikder - Camden Council NSW Australia - LinkedIn\n",
      "https://au.linkedin.com/in/shuvra-sikder-722126196\n",
      "Anthony Muscat - Senior Frontend Developer - Pearson | LinkedIn\n",
      "https://au.linkedin.com/in/anthony-muscat-b829676\n"
     ]
    }
   ],
   "source": [
    "namin_result = custom_search('\"Naeer Amin\" LinkedIn')\n",
    "print_results(namin_result)"
   ]
  },
  {
   "cell_type": "code",
   "execution_count": 68,
   "metadata": {},
   "outputs": [
    {
     "name": "stdout",
     "output_type": "stream",
     "text": [
      "Sharon Chemweno - Ben-Gurion University of the Negev - LinkedIn\n",
      "https://ke.linkedin.com/in/sharon-chemweno-b21b8517a\n",
      "Ruth Cherogony - Project Intern - LinkedIn\n",
      "https://il.linkedin.com/in/ruth-cherogony-749692234\n",
      "100+ perfiles de «Chemweno» | LinkedIn\n",
      "https://bo.linkedin.com/pub/dir/+/Chemweno/ke-0-Kenya\n",
      "Jacob Maundu - Resolution Insurance Kenya - LinkedIn\n",
      "https://ke.linkedin.com/in/jacob-maundu-5433a0173\n",
      "Tania Acuna - Ben Gurion University of the Negev - LinkedIn\n",
      "https://il.linkedin.com/in/tania-acuna-9a51a7b3\n",
      "Beatrice Wambui - Case Manager - RefugePoint | LinkedIn\n",
      "https://www.linkedin.com/in/beatrice-wambui-844855ba\n",
      "Felecien NDAYISHIMIYE - WUA Technician - LinkedIn Rwanda\n",
      "https://rw.linkedin.com/in/felecien-ndayishimiye-4a687a206\n",
      "Jason Dorey - Director of Academics - CanGlory Education | LinkedIn\n",
      "https://ca.linkedin.com/in/jason-dorey-b10308108\n",
      "Pauline Ang'ang'o - Managing Editor - Genesis Tech | LinkedIn\n",
      "https://hu.linkedin.com/in/pauline-ang-ang-o-194b55128\n",
      "Mayumi Evangelista - Immersed in English - LinkedIn\n",
      "https://ca.linkedin.com/in/mayumievangelista\n"
     ]
    }
   ],
   "source": [
    "schemweno_result = custom_search('\"Sharon Chemweno\" LinkedIn')\n",
    "print_results(schemweno_result)"
   ]
  },
  {
   "cell_type": "code",
   "execution_count": 69,
   "metadata": {},
   "outputs": [
    {
     "name": "stdout",
     "output_type": "stream",
     "text": [
      "Gerardo Restrepo - Senior Account Executive - LinkedIn\n",
      "https://www.linkedin.com/in/gerardo-restrepo-7239757\n",
      "Gerardo Restrepo - Professeur - Université de Sherbrooke | LinkedIn\n",
      "https://ca.linkedin.com/in/gerardo-restrepo-675aa236\n",
      "Gerardo Bohorquez - Colombia | Perfil profesional | LinkedIn\n",
      "https://co.linkedin.com/in/gerardo-bohorquez-a7676290\n",
      "40+ perfiles de «Bohorquez» | LinkedIn\n",
      "https://bo.linkedin.com/pub/dir/+/Bohorquez/au-0-Australia\n",
      "F5 group F5 group - Marketing Manager - F5 group | LinkedIn\n",
      "https://co.linkedin.com/in/f5-group-f5-group-648a591b\n",
      "Passiona Cottee - A/Director - LinkedIn\n",
      "https://au.linkedin.com/in/passiona\n",
      "Understanding Hierarchies using Dendrograms | by Yash Gupta ...\n",
      "https://medium.com/dssimplified/understanding-hierarchies-using-dendrograms-e3aef7ac5ea4\n"
     ]
    }
   ],
   "source": [
    "gbohorquez_result = custom_search('\"Gerardo Bohorquez Restrepo\" LinkedIn')\n",
    "print_results(gbohorquez_result)"
   ]
  }
 ],
 "metadata": {
  "kernelspec": {
   "display_name": "Python 3.7.5 ('venv': venv)",
   "language": "python",
   "name": "python3"
  },
  "language_info": {
   "codemirror_mode": {
    "name": "ipython",
    "version": 3
   },
   "file_extension": ".py",
   "mimetype": "text/x-python",
   "name": "python",
   "nbconvert_exporter": "python",
   "pygments_lexer": "ipython3",
   "version": "3.7.5"
  },
  "orig_nbformat": 4,
  "vscode": {
   "interpreter": {
    "hash": "4193285b78e1ba392e161cc96f893a22efa234824c7633599ef7ab1b092a3d13"
   }
  }
 },
 "nbformat": 4,
 "nbformat_minor": 2
}
