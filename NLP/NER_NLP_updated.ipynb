{
  "cells": [
    {
      "cell_type": "code",
      "execution_count": 4,
      "id": "13661f87",
      "metadata": {
        "colab": {
          "base_uri": "https://localhost:8080/"
        },
        "id": "13661f87",
        "outputId": "8d37ee28-19ae-4cbf-ea13-454077c99499"
      },
      "outputs": [
        {
          "output_type": "stream",
          "name": "stderr",
          "text": [
            "[nltk_data] Downloading package punkt to /root/nltk_data...\n",
            "[nltk_data]   Package punkt is already up-to-date!\n",
            "[nltk_data] Downloading package averaged_perceptron_tagger to\n",
            "[nltk_data]     /root/nltk_data...\n",
            "[nltk_data]   Package averaged_perceptron_tagger is already up-to-\n",
            "[nltk_data]       date!\n",
            "[nltk_data] Downloading package maxent_ne_chunker to\n",
            "[nltk_data]     /root/nltk_data...\n",
            "[nltk_data]   Package maxent_ne_chunker is already up-to-date!\n",
            "[nltk_data] Downloading package words to /root/nltk_data...\n",
            "[nltk_data]   Package words is already up-to-date!\n",
            "[nltk_data] Downloading package omw-1.4 to /root/nltk_data...\n",
            "[nltk_data]   Package omw-1.4 is already up-to-date!\n"
          ]
        }
      ],
      "source": [
        "import nltk\n",
        "nltk.download('punkt') #recognizes punctuation.\n",
        "nltk.download('averaged_perceptron_tagger') #default part of speech tagger for NLTK.\n",
        "nltk.download('maxent_ne_chunker') #Named Entity Chunker for NLTK. \n",
        "nltk.download('words') #NLTK corpus of words.\n",
        "##!pip install spacy\n",
        "#!python -m spacy download en_core_web_sm\n",
        "import nltk\n",
        "nltk.download('omw-1.4')\n",
        "#!pip3 install textblob\n",
        "#pip install -U pip pattern\n",
        "#-m pip install textblob\n",
        "from textblob import TextBlob\n",
        "from pattern.en import sentiment\n",
        "from wordcloud import WordCloud\n",
        "\n",
        "import requests\n",
        "import nltk\n",
        "from bs4 import BeautifulSoup\n",
        "import numpy as np \n",
        "import pandas as pd \n",
        "import seaborn as sns\n",
        "import matplotlib.pyplot as plt\n",
        "%matplotlib inline\n",
        "import random\n",
        "import asyncio\n",
        "import aiohttp\n",
        "import json\n",
        "#pip install pattern\n",
        "#pip install -U textblob\n",
        "#!pip3 install pattern\n",
        "#!pip3 install wordcloud\n",
        "#!pip install -U pip wordcloud"
      ]
    },
    {
      "cell_type": "code",
      "source": [
        "pip install pattern"
      ],
      "metadata": {
        "id": "7MYnTKjdPUcL"
      },
      "id": "7MYnTKjdPUcL",
      "execution_count": null,
      "outputs": []
    },
    {
      "cell_type": "code",
      "source": [
        "import spacy\n",
        "nlp = spacy.load('en_core_web_sm')"
      ],
      "metadata": {
        "id": "ynWrgP-tcxDO"
      },
      "id": "ynWrgP-tcxDO",
      "execution_count": 5,
      "outputs": []
    },
    {
      "cell_type": "code",
      "execution_count": 6,
      "id": "3a95384d",
      "metadata": {
        "colab": {
          "base_uri": "https://localhost:8080/"
        },
        "id": "3a95384d",
        "outputId": "aa28d516-12ed-4442-8206-13559f542be7"
      },
      "outputs": [
        {
          "output_type": "stream",
          "name": "stdout",
          "text": [
            "(GPE Mining/NN)\n",
            "(ORGANIZATION New/NNP South/NNP Wales/NNP)\n",
            "(ORGANIZATION NSW/NNP Minerals/NNP Council/NNP)\n",
            "(ORGANIZATION NSW/NNP)\n",
            "(ORGANIZATION NSW/NNP Farmers/NNP Association/NNP)\n",
            "(ORGANIZATION City/NNP)\n",
            "(GPE Sydney/NNP)\n",
            "(GPE Penrith/NNP)\n",
            "(ORGANIZATION Shenhua/NNP)\n",
            "(GPE Whitehaven/NNP)\n",
            "(PERSON Glencore/NNP)\n",
            "(ORGANIZATION AGL/NNP)\n",
            "(PERSON Rio/NNP Tinto/NNP)\n",
            "(ORGANIZATION BHP/NNP)\n",
            "(PERSON Origin/NNP Energy/NNP)\n",
            "(GPE Santos/NNP)\n",
            "(PERSON Anglo/NNP American/NNP)\n",
            "(ORGANIZATION Centennial/NNP Coal/NNP)\n"
          ]
        }
      ],
      "source": [
        " \n",
        "text =\"Mining and resources companies were given an extraordinary level of access to the highest rungs of the New South Wales government in the past four years, securing roughly 188 meetings with ministers in 235 weeks. An analysis of four and a half years of the state’s ministerial diaries shows the NSW Minerals Council has obtained regular access to resources, planning and finance ministers, and the offices of premiers and deputy premiers. The council was given 61 meetings with NSW ministers, more than anyone except the NSW Farmers Association, the City of Sydney council and Penrith city council. Further meetings were granted to multinational resource and energy companies such as Shenhua, Whitehaven, Glencore, AGL, Rio Tinto, BHP, Origin Energy, Santos, Anglo American and Centennial Coal.\"\n",
        " \n",
        "tokenized = nltk.word_tokenize(text)\n",
        "pos_tagged = nltk.pos_tag(tokenized)\n",
        "chunks = nltk.ne_chunk(pos_tagged)\n",
        "for chunk in chunks:\n",
        "    if hasattr(chunk, 'label'):\n",
        "        print(chunk)"
      ]
    },
    {
      "cell_type": "markdown",
      "id": "ab3a943e",
      "metadata": {
        "id": "ab3a943e"
      },
      "source": [
        "# Using guardian API"
      ]
    },
    {
      "cell_type": "markdown",
      "id": "c72be86f",
      "metadata": {
        "id": "c72be86f"
      },
      "source": [
        "#### For Rio Tinto"
      ]
    },
    {
      "cell_type": "code",
      "execution_count": 7,
      "id": "83e5584f",
      "metadata": {
        "colab": {
          "base_uri": "https://localhost:8080/"
        },
        "id": "83e5584f",
        "outputId": "01adc941-f366-4370-ccd6-9ab1275a1071"
      },
      "outputs": [
        {
          "output_type": "execute_result",
          "data": {
            "text/plain": [
              "{'response': {'status': 'ok',\n",
              "  'userTier': 'developer',\n",
              "  'total': 353,\n",
              "  'startIndex': 1,\n",
              "  'pageSize': 10,\n",
              "  'currentPage': 1,\n",
              "  'pages': 36,\n",
              "  'orderBy': 'relevance',\n",
              "  'results': [{'id': 'australia-news/2022/jul/20/rio-tinto-agrees-to-pay-additional-613m-to-settle-dispute-with-australian-tax-office',\n",
              "    'type': 'article',\n",
              "    'sectionId': 'australia-news',\n",
              "    'sectionName': 'Australia news',\n",
              "    'webPublicationDate': '2022-07-20T08:38:49Z',\n",
              "    'webTitle': 'Rio Tinto agrees to pay additional $613m to settle dispute with Australian tax office',\n",
              "    'webUrl': 'https://www.theguardian.com/australia-news/2022/jul/20/rio-tinto-agrees-to-pay-additional-613m-to-settle-dispute-with-australian-tax-office',\n",
              "    'apiUrl': 'https://content.guardianapis.com/australia-news/2022/jul/20/rio-tinto-agrees-to-pay-additional-613m-to-settle-dispute-with-australian-tax-office',\n",
              "    'isHosted': False,\n",
              "    'pillarId': 'pillar/news',\n",
              "    'pillarName': 'News'},\n",
              "   {'id': 'australia-news/2022/apr/08/rio-tinto-takes-full-control-of-queensland-alumina-refinery-after-russian-oligarchs-sanctioned',\n",
              "    'type': 'article',\n",
              "    'sectionId': 'australia-news',\n",
              "    'sectionName': 'Australia news',\n",
              "    'webPublicationDate': '2022-04-08T00:59:46Z',\n",
              "    'webTitle': 'Rio Tinto takes full control of Queensland alumina refinery after Russian oligarchs sanctioned',\n",
              "    'webUrl': 'https://www.theguardian.com/australia-news/2022/apr/08/rio-tinto-takes-full-control-of-queensland-alumina-refinery-after-russian-oligarchs-sanctioned',\n",
              "    'apiUrl': 'https://content.guardianapis.com/australia-news/2022/apr/08/rio-tinto-takes-full-control-of-queensland-alumina-refinery-after-russian-oligarchs-sanctioned',\n",
              "    'isHosted': False,\n",
              "    'pillarId': 'pillar/news',\n",
              "    'pillarName': 'News'},\n",
              "   {'id': 'australia-news/2022/may/20/juukan-gorge-traditional-owners-sign-agreement-with-rio-tinto-to-co-manage-wa-mining-land',\n",
              "    'type': 'article',\n",
              "    'sectionId': 'australia-news',\n",
              "    'sectionName': 'Australia news',\n",
              "    'webPublicationDate': '2022-05-20T03:47:22Z',\n",
              "    'webTitle': 'Juukan Gorge traditional owners sign agreement with Rio Tinto to co-manage WA mining land',\n",
              "    'webUrl': 'https://www.theguardian.com/australia-news/2022/may/20/juukan-gorge-traditional-owners-sign-agreement-with-rio-tinto-to-co-manage-wa-mining-land',\n",
              "    'apiUrl': 'https://content.guardianapis.com/australia-news/2022/may/20/juukan-gorge-traditional-owners-sign-agreement-with-rio-tinto-to-co-manage-wa-mining-land',\n",
              "    'isHosted': False,\n",
              "    'pillarId': 'pillar/news',\n",
              "    'pillarName': 'News'},\n",
              "   {'id': 'australia-news/2022/oct/02/kakadu-uranium-site-clean-up-in-limbo-amid-calls-to-revive-mine',\n",
              "    'type': 'article',\n",
              "    'sectionId': 'australia-news',\n",
              "    'sectionName': 'Australia news',\n",
              "    'webPublicationDate': '2022-10-01T19:00:18Z',\n",
              "    'webTitle': 'Kakadu uranium site clean-up in limbo amid calls to revive mine',\n",
              "    'webUrl': 'https://www.theguardian.com/australia-news/2022/oct/02/kakadu-uranium-site-clean-up-in-limbo-amid-calls-to-revive-mine',\n",
              "    'apiUrl': 'https://content.guardianapis.com/australia-news/2022/oct/02/kakadu-uranium-site-clean-up-in-limbo-amid-calls-to-revive-mine',\n",
              "    'isHosted': False,\n",
              "    'pillarId': 'pillar/news',\n",
              "    'pillarName': 'News'},\n",
              "   {'id': 'australia-news/2022/mar/01/origin-energy-and-rio-tinto-urged-to-review-joint-ventures-with-russian-oligarchs',\n",
              "    'type': 'article',\n",
              "    'sectionId': 'australia-news',\n",
              "    'sectionName': 'Australia news',\n",
              "    'webPublicationDate': '2022-03-01T04:04:48Z',\n",
              "    'webTitle': 'Origin Energy and Rio Tinto urged to review joint ventures with Russian oligarchs',\n",
              "    'webUrl': 'https://www.theguardian.com/australia-news/2022/mar/01/origin-energy-and-rio-tinto-urged-to-review-joint-ventures-with-russian-oligarchs',\n",
              "    'apiUrl': 'https://content.guardianapis.com/australia-news/2022/mar/01/origin-energy-and-rio-tinto-urged-to-review-joint-ventures-with-russian-oligarchs',\n",
              "    'isHosted': False,\n",
              "    'pillarId': 'pillar/news',\n",
              "    'pillarName': 'News'},\n",
              "   {'id': 'australia-news/2022/apr/08/wa-aboriginal-site-near-rio-tinto-mine-more-than-50000-years-old-new-study-reveals',\n",
              "    'type': 'article',\n",
              "    'sectionId': 'australia-news',\n",
              "    'sectionName': 'Australia news',\n",
              "    'webPublicationDate': '2022-04-08T07:57:30Z',\n",
              "    'webTitle': 'WA Aboriginal site near Rio Tinto mine more than 50,000 years old, new study reveals',\n",
              "    'webUrl': 'https://www.theguardian.com/australia-news/2022/apr/08/wa-aboriginal-site-near-rio-tinto-mine-more-than-50000-years-old-new-study-reveals',\n",
              "    'apiUrl': 'https://content.guardianapis.com/australia-news/2022/apr/08/wa-aboriginal-site-near-rio-tinto-mine-more-than-50000-years-old-new-study-reveals',\n",
              "    'isHosted': False,\n",
              "    'pillarId': 'pillar/news',\n",
              "    'pillarName': 'News'},\n",
              "   {'id': 'australia-news/2022/oct/09/walk-away-traditional-owners-defend-kakadu-against-a-new-push-from-uranium-miners',\n",
              "    'type': 'article',\n",
              "    'sectionId': 'australia-news',\n",
              "    'sectionName': 'Australia news',\n",
              "    'webPublicationDate': '2022-10-08T19:00:37Z',\n",
              "    'webTitle': '‘Walk away’: traditional owners defend Kakadu against a new push from uranium miners ',\n",
              "    'webUrl': 'https://www.theguardian.com/australia-news/2022/oct/09/walk-away-traditional-owners-defend-kakadu-against-a-new-push-from-uranium-miners',\n",
              "    'apiUrl': 'https://content.guardianapis.com/australia-news/2022/oct/09/walk-away-traditional-owners-defend-kakadu-against-a-new-push-from-uranium-miners',\n",
              "    'isHosted': False,\n",
              "    'pillarId': 'pillar/news',\n",
              "    'pillarName': 'News'},\n",
              "   {'id': 'australia-news/live/2022/mar/10/australia-news-live-updates-scott-morrison-queensland-nsw-floods-weather-covid-coronavirus',\n",
              "    'type': 'liveblog',\n",
              "    'sectionId': 'australia-news',\n",
              "    'sectionName': 'Australia news',\n",
              "    'webPublicationDate': '2022-03-10T08:04:18Z',\n",
              "    'webTitle': 'Morrison says Qld premier ‘consulted’ on emergency; Rio Tinto ditching Russia; 21 Covid deaths – As it happened',\n",
              "    'webUrl': 'https://www.theguardian.com/australia-news/live/2022/mar/10/australia-news-live-updates-scott-morrison-queensland-nsw-floods-weather-covid-coronavirus',\n",
              "    'apiUrl': 'https://content.guardianapis.com/australia-news/live/2022/mar/10/australia-news-live-updates-scott-morrison-queensland-nsw-floods-weather-covid-coronavirus',\n",
              "    'isHosted': False,\n",
              "    'pillarId': 'pillar/news',\n",
              "    'pillarName': 'News'},\n",
              "   {'id': 'australia-news/2022/feb/24/prospect-of-sanctions-hits-russian-part-owner-of-queensland-alumina-refinery',\n",
              "    'type': 'article',\n",
              "    'sectionId': 'australia-news',\n",
              "    'sectionName': 'Australia news',\n",
              "    'webPublicationDate': '2022-02-24T00:46:11Z',\n",
              "    'webTitle': 'Prospect of sanctions hits Russian part-owner of Queensland alumina refinery',\n",
              "    'webUrl': 'https://www.theguardian.com/australia-news/2022/feb/24/prospect-of-sanctions-hits-russian-part-owner-of-queensland-alumina-refinery',\n",
              "    'apiUrl': 'https://content.guardianapis.com/australia-news/2022/feb/24/prospect-of-sanctions-hits-russian-part-owner-of-queensland-alumina-refinery',\n",
              "    'isHosted': False,\n",
              "    'pillarId': 'pillar/news',\n",
              "    'pillarName': 'News'},\n",
              "   {'id': 'australia-news/2022/feb/03/cost-to-rehabilitate-kakadu-uranium-mine-site-could-blow-out-by-12bn',\n",
              "    'type': 'article',\n",
              "    'sectionId': 'australia-news',\n",
              "    'sectionName': 'Australia news',\n",
              "    'webPublicationDate': '2022-02-02T22:05:19Z',\n",
              "    'webTitle': 'Cost to rehabilitate Kakadu uranium mine site could blow out by $1.2bn',\n",
              "    'webUrl': 'https://www.theguardian.com/australia-news/2022/feb/03/cost-to-rehabilitate-kakadu-uranium-mine-site-could-blow-out-by-12bn',\n",
              "    'apiUrl': 'https://content.guardianapis.com/australia-news/2022/feb/03/cost-to-rehabilitate-kakadu-uranium-mine-site-could-blow-out-by-12bn',\n",
              "    'isHosted': False,\n",
              "    'pillarId': 'pillar/news',\n",
              "    'pillarName': 'News'}]}}"
            ]
          },
          "metadata": {},
          "execution_count": 7
        }
      ],
      "source": [
        "guardian_api_key = \"231ce917-65b5-4019-b365-c79f213379d1&q=Rio%20Tinto\"\n",
        "import requests as r\n",
        "\n",
        "response = r.get(f'https://content.guardianapis.com/search?section=australia-news&q=xstrata&api-key={guardian_api_key}')\n",
        "data = response.json()\n",
        "data"
      ]
    },
    {
      "cell_type": "code",
      "execution_count": 8,
      "id": "ffa49edd",
      "metadata": {
        "colab": {
          "base_uri": "https://localhost:8080/"
        },
        "id": "ffa49edd",
        "outputId": "5a413478-e0fb-43fb-9113-d753e425af65"
      },
      "outputs": [
        {
          "output_type": "execute_result",
          "data": {
            "text/plain": [
              "{'response': {'status': 'ok',\n",
              "  'userTier': 'developer',\n",
              "  'total': 1,\n",
              "  'content': {'id': 'australia-news/2022/jul/20/rio-tinto-agrees-to-pay-additional-613m-to-settle-dispute-with-australian-tax-office',\n",
              "   'type': 'article',\n",
              "   'sectionId': 'australia-news',\n",
              "   'sectionName': 'Australia news',\n",
              "   'webPublicationDate': '2022-07-20T08:38:49Z',\n",
              "   'webTitle': 'Rio Tinto agrees to pay additional $613m to settle dispute with Australian tax office',\n",
              "   'webUrl': 'https://www.theguardian.com/australia-news/2022/jul/20/rio-tinto-agrees-to-pay-additional-613m-to-settle-dispute-with-australian-tax-office',\n",
              "   'apiUrl': 'https://content.guardianapis.com/australia-news/2022/jul/20/rio-tinto-agrees-to-pay-additional-613m-to-settle-dispute-with-australian-tax-office',\n",
              "   'fields': {'bodyText': 'Rio Tinto has agreed to pay the Australian taxation office an additional $613m to settle disputes over its financing arrangements and marketing hubs in Singapore, as part of what the ATO claims is one of the biggest tax settlements in Australian history. The payment is on top of $378m the global mining giant had previously paid over the same dispute,bringing the total to almost $1bn in extra tax revenue. The ATO had been seeking about $1.2bn in tax and penalties. Tax arrangements for the next five years were also locked in as part of the deal. Rebecca Saint, an ATO deputy commissioner, said the settlement was “a very good outcome for the Australian tax system”. “This means that additional profits from the sale of Rio’s Australian-owned commodities will be taxed in Australia in the years to come,” she said. “The resolution of these matters means that ordinary Australians can have confidence that even the biggest companies are held to account to pay their tax due.” Starting in 2017, the ATO hit Rio Tinto with a series of large tax bills over its marketing hub in Singapore, which sells iron ore and aluminium on behalf of the group. The bills date back to 2010. Similar hubs are used by BHP and other miners, but their use became controversial in Australia in the mid-2010s amid a general crackdown by the ATO on multinational corporations. The ATO also pursued Rio Tinto in 2021 over money it borrowed within the group to pay a dividend to shareholders in 2015. Sign up to receive an email with the top stories from Guardian Australia every morning At the same time as striking a deal with the ATO, Rio Tinto has also settled a dispute with the Inland Revenue Authority of Singapore (Iras) over the treatment of the hubs. It had been seeking resolution of the issue under a tax treaty between Australia and Singapore but withdrew the request as a result of the deals with the ATO and Iras. “We are glad to have resolved these longstanding disputes and to have gained certainty over future tax outcomes relating to our Singapore marketing arrangements,” Rio Tinto’s chief financial officer, Peter Cunningham, said. “Rio Tinto remains committed to our commercial activities in Singapore and the valuable role played by our centralised commercial team.” The Albanese government welcomed the settlement. “Expecting local firms to compete against tax-dodging multinationals is like asking them to fight with one hand tied behind their backs,” the assistant minister for competition, charities and treasury, Andrew Leigh, said. “It’s just not fair. Closing multinational tax loopholes will create a better environment for productive firms to flourish, and add to the public confidence in our tax system.”'},\n",
              "   'isHosted': False,\n",
              "   'pillarId': 'pillar/news',\n",
              "   'pillarName': 'News'}}}"
            ]
          },
          "metadata": {},
          "execution_count": 8
        }
      ],
      "source": [
        "article_content = r.get(f'{data[\"response\"][\"results\"][0][\"apiUrl\"]}?api-key={guardian_api_key}&show-fields=bodyText')\n",
        "article_content.json()"
      ]
    },
    {
      "cell_type": "code",
      "source": [
        "text_rio= \"'Rio Tinto has agreed to pay the Australian taxation office an additional $613m to settle disputes over its financing arrangements and marketing hubs in Singapore, as part of what the ATO claims is one of the biggest tax settlements in Australian history. The payment is on top of $378m the global mining giant had previously paid over the same dispute,bringing the total to almost $1bn in extra tax revenue. The ATO had been seeking about $1.2bn in tax and penalties. Tax arrangements for the next five years were also locked in as part of the deal. Rebecca Saint, an ATO deputy commissioner, said the settlement was “a very good outcome for the Australian tax system”. “This means that additional profits from the sale of Rio’s Australian-owned commodities will be taxed in Australia in the years to come,” she said. “The resolution of these matters means that ordinary Australians can have confidence that even the biggest companies are held to account to pay their tax due.” Starting in 2017, the ATO hit Rio Tinto with a series of large tax bills over its marketing hub in Singapore, which sells iron ore and aluminium on behalf of the group. The bills date back to 2010. Similar hubs are used by BHP and other miners, but their use became controversial in Australia in the mid-2010s amid a general crackdown by the ATO on multinational corporations. The ATO also pursued Rio Tinto in 2021 over money it borrowed within the group to pay a dividend to shareholders in 2015. Sign up to receive an email with the top stories from Guardian Australia every morning At the same time as striking a deal with the ATO, Rio Tinto has also settled a dispute with the Inland Revenue Authority of Singapore (Iras) over the treatment of the hubs. It had been seeking resolution of the issue under a tax treaty between Australia and Singapore but withdrew the request as a result of the deals with the ATO and Iras. “We are glad to have resolved these longstanding disputes and to have gained certainty over future tax outcomes relating to our Singapore marketing arrangements,” Rio Tinto’s chief financial officer, Peter Cunningham, said. “Rio Tinto remains committed to our commercial activities in Singapore and the valuable role played by our centralised commercial team.” The Albanese government welcomed the settlement. “Expecting local firms to compete against tax-dodging multinationals is like asking them to fight with one hand tied behind their backs,” the assistant minister for competition, charities and treasury, Andrew Leigh, said. “It’s just not fair. Closing multinational tax loopholes will create a better environment for productive firms to flourish, and add to the public confidence in our tax system.\"\n",
        "tokenized = nltk.word_tokenize(text_rio)\n",
        "pos_tagged = nltk.pos_tag(tokenized)\n",
        "chunks = nltk.ne_chunk(pos_tagged)\n",
        "for chunk in chunks:\n",
        "    if hasattr(chunk, 'label'):\n",
        "        print(chunk)"
      ],
      "metadata": {
        "colab": {
          "base_uri": "https://localhost:8080/"
        },
        "id": "JyTc6DSJPCha",
        "outputId": "66541c88-456e-4c50-9378-c2d36d04df48"
      },
      "id": "JyTc6DSJPCha",
      "execution_count": 9,
      "outputs": [
        {
          "output_type": "stream",
          "name": "stdout",
          "text": [
            "(ORGANIZATION Tinto/NNP)\n",
            "(GPE Australian/JJ)\n",
            "(GPE Singapore/NNP)\n",
            "(ORGANIZATION ATO/NNP)\n",
            "(GPE Australian/JJ)\n",
            "(ORGANIZATION ATO/NNP)\n",
            "(PERSON Rebecca/NNP Saint/NNP)\n",
            "(ORGANIZATION ATO/NNP)\n",
            "(GPE Australian/JJ)\n",
            "(ORGANIZATION Rio/NNP)\n",
            "(GPE Australia/NNP)\n",
            "(ORGANIZATION ATO/NNP)\n",
            "(PERSON Rio/NNP Tinto/NNP)\n",
            "(GPE Singapore/NNP)\n",
            "(ORGANIZATION BHP/NNP)\n",
            "(GPE Australia/NNP)\n",
            "(ORGANIZATION ATO/NNP)\n",
            "(ORGANIZATION ATO/NNP)\n",
            "(PERSON Rio/NNP Tinto/NNP)\n",
            "(GPE Guardian/JJ)\n",
            "(GPE Australia/NNP)\n",
            "(ORGANIZATION ATO/NNP)\n",
            "(PERSON Rio/NNP Tinto/NNP)\n",
            "(ORGANIZATION Inland/NNP Revenue/NNP)\n",
            "(GPE Singapore/NNP)\n",
            "(GPE Iras/NNP)\n",
            "(GPE Australia/NNP)\n",
            "(GPE Singapore/NNP)\n",
            "(ORGANIZATION ATO/NNP)\n",
            "(GPE Iras/NNP)\n",
            "(GPE Singapore/NNP)\n",
            "(PERSON Peter/NNP Cunningham/NNP)\n",
            "(GPE Singapore/NNP)\n",
            "(GPE Albanese/JJ)\n",
            "(PERSON Andrew/NNP Leigh/NNP)\n"
          ]
        }
      ]
    },
    {
      "cell_type": "markdown",
      "id": "26c4b43c",
      "metadata": {
        "id": "26c4b43c"
      },
      "source": [
        "# Mining Companies"
      ]
    },
    {
      "cell_type": "code",
      "execution_count": 10,
      "id": "2122cce9",
      "metadata": {
        "colab": {
          "base_uri": "https://localhost:8080/"
        },
        "id": "2122cce9",
        "outputId": "dd173b08-f5ff-49dc-cf9c-a37b0a0682ee"
      },
      "outputs": [
        {
          "output_type": "execute_result",
          "data": {
            "text/plain": [
              "{'response': {'status': 'ok',\n",
              "  'userTier': 'developer',\n",
              "  'total': 11203,\n",
              "  'startIndex': 1,\n",
              "  'pageSize': 10,\n",
              "  'currentPage': 1,\n",
              "  'pages': 1121,\n",
              "  'orderBy': 'relevance',\n",
              "  'results': [{'id': 'australia-news/2022/aug/24/pay-up-mining-and-gambling-companies-told-not-to-expect-sympathy-over-queensland-tax-hikes',\n",
              "    'type': 'article',\n",
              "    'sectionId': 'australia-news',\n",
              "    'sectionName': 'Australia news',\n",
              "    'webPublicationDate': '2022-08-23T17:30:12Z',\n",
              "    'webTitle': 'Pay up: mining and gambling companies told not to expect sympathy over Queensland tax hikes',\n",
              "    'webUrl': 'https://www.theguardian.com/australia-news/2022/aug/24/pay-up-mining-and-gambling-companies-told-not-to-expect-sympathy-over-queensland-tax-hikes',\n",
              "    'apiUrl': 'https://content.guardianapis.com/australia-news/2022/aug/24/pay-up-mining-and-gambling-companies-told-not-to-expect-sympathy-over-queensland-tax-hikes',\n",
              "    'isHosted': False,\n",
              "    'pillarId': 'pillar/news',\n",
              "    'pillarName': 'News'},\n",
              "   {'id': 'australia-news/2022/sep/21/massive-missed-opportunity-nsw-could-make-23bn-with-tiered-tax-on-record-coal-profits',\n",
              "    'type': 'article',\n",
              "    'sectionId': 'australia-news',\n",
              "    'sectionName': 'Australia news',\n",
              "    'webPublicationDate': '2022-09-20T17:30:06Z',\n",
              "    'webTitle': '‘Massive missed opportunity’: NSW could make $23bn with tiered tax on record coal profits',\n",
              "    'webUrl': 'https://www.theguardian.com/australia-news/2022/sep/21/massive-missed-opportunity-nsw-could-make-23bn-with-tiered-tax-on-record-coal-profits',\n",
              "    'apiUrl': 'https://content.guardianapis.com/australia-news/2022/sep/21/massive-missed-opportunity-nsw-could-make-23bn-with-tiered-tax-on-record-coal-profits',\n",
              "    'isHosted': False,\n",
              "    'pillarId': 'pillar/news',\n",
              "    'pillarName': 'News'},\n",
              "   {'id': 'australia-news/2021/nov/23/glencore-launches-public-attack-on-indigenous-pair-opposing-nsw-mining-project',\n",
              "    'type': 'article',\n",
              "    'sectionId': 'australia-news',\n",
              "    'sectionName': 'Australia news',\n",
              "    'webPublicationDate': '2021-11-22T16:30:30Z',\n",
              "    'webTitle': 'Glencore launches public attack on Indigenous pair opposing NSW mining project',\n",
              "    'webUrl': 'https://www.theguardian.com/australia-news/2021/nov/23/glencore-launches-public-attack-on-indigenous-pair-opposing-nsw-mining-project',\n",
              "    'apiUrl': 'https://content.guardianapis.com/australia-news/2021/nov/23/glencore-launches-public-attack-on-indigenous-pair-opposing-nsw-mining-project',\n",
              "    'isHosted': False,\n",
              "    'pillarId': 'pillar/news',\n",
              "    'pillarName': 'News'},\n",
              "   {'id': 'australia-news/2022/oct/05/nsw-chief-health-officer-cautiously-optimistic-about-containment-of-monkeypox-outbreak',\n",
              "    'type': 'article',\n",
              "    'sectionId': 'australia-news',\n",
              "    'sectionName': 'Australia news',\n",
              "    'webPublicationDate': '2022-10-04T16:30:45Z',\n",
              "    'webTitle': 'NSW chief health officer ‘cautiously optimistic’ about containment of monkeypox outbreak',\n",
              "    'webUrl': 'https://www.theguardian.com/australia-news/2022/oct/05/nsw-chief-health-officer-cautiously-optimistic-about-containment-of-monkeypox-outbreak',\n",
              "    'apiUrl': 'https://content.guardianapis.com/australia-news/2022/oct/05/nsw-chief-health-officer-cautiously-optimistic-about-containment-of-monkeypox-outbreak',\n",
              "    'isHosted': False,\n",
              "    'pillarId': 'pillar/news',\n",
              "    'pillarName': 'News'},\n",
              "   {'id': 'australia-news/2022/oct/03/terrifying-flood-ordeal-turns-into-frustrating-ndis-battle-for-nsw-woman',\n",
              "    'type': 'article',\n",
              "    'sectionId': 'australia-news',\n",
              "    'sectionName': 'Australia news',\n",
              "    'webPublicationDate': '2022-10-02T16:30:42Z',\n",
              "    'webTitle': 'Terrifying flood ordeal turns into frustrating NDIS battle for NSW woman',\n",
              "    'webUrl': 'https://www.theguardian.com/australia-news/2022/oct/03/terrifying-flood-ordeal-turns-into-frustrating-ndis-battle-for-nsw-woman',\n",
              "    'apiUrl': 'https://content.guardianapis.com/australia-news/2022/oct/03/terrifying-flood-ordeal-turns-into-frustrating-ndis-battle-for-nsw-woman',\n",
              "    'isHosted': False,\n",
              "    'pillarId': 'pillar/news',\n",
              "    'pillarName': 'News'},\n",
              "   {'id': 'australia-news/2022/oct/08/early-interventions-missed-as-nsw-struggles-with-shortage-of-school-counsellors',\n",
              "    'type': 'article',\n",
              "    'sectionId': 'australia-news',\n",
              "    'sectionName': 'Australia news',\n",
              "    'webPublicationDate': '2022-10-07T19:00:09Z',\n",
              "    'webTitle': 'Early interventions ‘missed’ as NSW struggles with shortage of school counsellors',\n",
              "    'webUrl': 'https://www.theguardian.com/australia-news/2022/oct/08/early-interventions-missed-as-nsw-struggles-with-shortage-of-school-counsellors',\n",
              "    'apiUrl': 'https://content.guardianapis.com/australia-news/2022/oct/08/early-interventions-missed-as-nsw-struggles-with-shortage-of-school-counsellors',\n",
              "    'isHosted': False,\n",
              "    'pillarId': 'pillar/news',\n",
              "    'pillarName': 'News'},\n",
              "   {'id': 'australia-news/2022/may/18/community-group-linked-to-mining-company-new-hope-presses-alp-candidate-on-coalmine-support',\n",
              "    'type': 'article',\n",
              "    'sectionId': 'australia-news',\n",
              "    'sectionName': 'Australia news',\n",
              "    'webPublicationDate': '2022-05-17T17:30:28Z',\n",
              "    'webTitle': '‘Community’ group linked to mining company New Hope presses ALP candidate on coalmine support',\n",
              "    'webUrl': 'https://www.theguardian.com/australia-news/2022/may/18/community-group-linked-to-mining-company-new-hope-presses-alp-candidate-on-coalmine-support',\n",
              "    'apiUrl': 'https://content.guardianapis.com/australia-news/2022/may/18/community-group-linked-to-mining-company-new-hope-presses-alp-candidate-on-coalmine-support',\n",
              "    'isHosted': False,\n",
              "    'pillarId': 'pillar/news',\n",
              "    'pillarName': 'News'},\n",
              "   {'id': 'australia-news/2022/sep/21/korean-companies-plan-to-turn-queensland-coalmining-town-into-renewable-energy-powerhouse',\n",
              "    'type': 'article',\n",
              "    'sectionId': 'australia-news',\n",
              "    'sectionName': 'Australia news',\n",
              "    'webPublicationDate': '2022-09-21T05:18:09Z',\n",
              "    'webTitle': 'Korean companies plan to turn Queensland coalmining town into renewable energy powerhouse',\n",
              "    'webUrl': 'https://www.theguardian.com/australia-news/2022/sep/21/korean-companies-plan-to-turn-queensland-coalmining-town-into-renewable-energy-powerhouse',\n",
              "    'apiUrl': 'https://content.guardianapis.com/australia-news/2022/sep/21/korean-companies-plan-to-turn-queensland-coalmining-town-into-renewable-energy-powerhouse',\n",
              "    'isHosted': False,\n",
              "    'pillarId': 'pillar/news',\n",
              "    'pillarName': 'News'},\n",
              "   {'id': 'australia-news/2022/aug/12/nsw-labor-mp-walt-secord-apologises-amid-bullying-allegations',\n",
              "    'type': 'article',\n",
              "    'sectionId': 'australia-news',\n",
              "    'sectionName': 'Australia news',\n",
              "    'webPublicationDate': '2022-08-12T06:46:06Z',\n",
              "    'webTitle': 'NSW Labor MP Walt Secord apologises amid bullying allegations',\n",
              "    'webUrl': 'https://www.theguardian.com/australia-news/2022/aug/12/nsw-labor-mp-walt-secord-apologises-amid-bullying-allegations',\n",
              "    'apiUrl': 'https://content.guardianapis.com/australia-news/2022/aug/12/nsw-labor-mp-walt-secord-apologises-amid-bullying-allegations',\n",
              "    'isHosted': False,\n",
              "    'pillarId': 'pillar/news',\n",
              "    'pillarName': 'News'},\n",
              "   {'id': 'australia-news/2022/aug/12/bullying-and-sexual-harassment-rife-in-nsw-parliament-elizabeth-broderick-review-finds',\n",
              "    'type': 'article',\n",
              "    'sectionId': 'australia-news',\n",
              "    'sectionName': 'Australia news',\n",
              "    'webPublicationDate': '2022-08-11T23:27:39Z',\n",
              "    'webTitle': 'Review of NSW parliament uncovers five alleged sexual assaults',\n",
              "    'webUrl': 'https://www.theguardian.com/australia-news/2022/aug/12/bullying-and-sexual-harassment-rife-in-nsw-parliament-elizabeth-broderick-review-finds',\n",
              "    'apiUrl': 'https://content.guardianapis.com/australia-news/2022/aug/12/bullying-and-sexual-harassment-rife-in-nsw-parliament-elizabeth-broderick-review-finds',\n",
              "    'isHosted': False,\n",
              "    'pillarId': 'pillar/news',\n",
              "    'pillarName': 'News'}]}}"
            ]
          },
          "metadata": {},
          "execution_count": 10
        }
      ],
      "source": [
        "guardian_api_key = \"231ce917-65b5-4019-b365-c79f213379d1&q=mining-companies-nsw\"\n",
        "import requests as r\n",
        "\n",
        "response = r.get(f'https://content.guardianapis.com/search?section=australia-news&q=xstrata&api-key={guardian_api_key}')\n",
        "data = response.json()\n",
        "data"
      ]
    },
    {
      "cell_type": "code",
      "execution_count": 11,
      "id": "17d0fe1e",
      "metadata": {
        "colab": {
          "base_uri": "https://localhost:8080/"
        },
        "id": "17d0fe1e",
        "outputId": "b9012863-58b8-4913-cea8-93ae9fd514e1"
      },
      "outputs": [
        {
          "output_type": "execute_result",
          "data": {
            "text/plain": [
              "{'response': {'status': 'ok',\n",
              "  'userTier': 'developer',\n",
              "  'total': 1,\n",
              "  'content': {'id': 'australia-news/2022/aug/24/pay-up-mining-and-gambling-companies-told-not-to-expect-sympathy-over-queensland-tax-hikes',\n",
              "   'type': 'article',\n",
              "   'sectionId': 'australia-news',\n",
              "   'sectionName': 'Australia news',\n",
              "   'webPublicationDate': '2022-08-23T17:30:12Z',\n",
              "   'webTitle': 'Pay up: mining and gambling companies told not to expect sympathy over Queensland tax hikes',\n",
              "   'webUrl': 'https://www.theguardian.com/australia-news/2022/aug/24/pay-up-mining-and-gambling-companies-told-not-to-expect-sympathy-over-queensland-tax-hikes',\n",
              "   'apiUrl': 'https://content.guardianapis.com/australia-news/2022/aug/24/pay-up-mining-and-gambling-companies-told-not-to-expect-sympathy-over-queensland-tax-hikes',\n",
              "   'fields': {'bodyText': 'Resources and gambling companies have been told to “pull their head in” and not expect public sympathy after taking high-profile actions to resist recent tax increases by the Queensland government. BHP’s chief executive, Mike Henry, last week said the mining giant would pause plans for its Blackwater South coalmine because of the state’s new royalty regime, unveiled as part of the June budget. Henry said the royalty changes “didn’t involve any engagement with industry” and increased risk for the company in Queensland. The move came amid windfall profits for BHP and despite the fact the company sought environmental approval from the federal government for the mine on 8 June, after the Queensland government had already flagged it was on the verge of increasing royalties. The mine is not expected to open before 2029. Ian Macfarlane, the chief executive of the Queensland Resources Council, met with the state treasurer, Cameron Dick, on 26 May to discuss the likelihood of coal royalties being increased after the expiry of a 10-year freeze. Queensland Conservation Council’s director, Dave Copeman, said it was only fair mining companies paid a reasonable amount of taxes after a decade without rises to coal royalties. “I think the resources companies need to pull their head in,” he said. “They can’t be out in the community spruiking all of the benefits [of mining], and then when it comes to actually paying their fair share of tax, go to war. “That hypocrisy is the reason why I don’t see the Queensland government backing down on this.” The state has also faced intense pressure from online wagering companies in recent weeks over an increase in the betting tax. Ladbrokes deprioritised Queensland horse races from its mobile apps and axed a $7.5m Brisbane Broncos sponsorship in response to the government’s plan to raise an additional $80m for the state’s racing industry via increased betting taxes. Sportsbet also pushed down the state’s races on its app – a move it has since reversed after making a deal with Racing Queensland. John Quiggin, a laureate fellow in economics at the University of Queensland, said he did not expect the mining or gambling industries to receive a great deal of public sympathy over the taxes. “The answer really is someone has to pay,” Quiggin said. “What you have is, on the one hand the mining industry that’s doing spectacularly well … and on the other hand the gambling industry which largely relies on government toleration to get the money it does.” Tim Costello, an advocate from the Alliance for Gambling Reform, said it was not surprising to see bookmakers push back against the tax increases. “We’ve been very blind to the political muscle and state capture by gambling interests here in Australia,” Costello said. “They have transformed their wealth into political power.” A spokesperson for the treasurer said the state government would proceed with the revenue changes, which were “made in the interest of all Queenslanders”. The spokesperson noted changes to the royalties were passed in state parliament with no opposition. “They are designed to ensure companies operating in Queensland pay their fair share and that Queenslanders get their fair share,” the spokesperson said. Macfarlane said on Sunday the hike in coal royalties was an “astronomical increase” and that companies were only given a few weeks’ notice of the plan. Guardian Australia has contacted BHP, Sportsbet and Ladbrokes for comment. • In Australia, the crisis support service Lifeline is 13 11 14. Gambling Help Online is available on 1800 858 858 and the National Debt Helpline is at 1800 007 007'},\n",
              "   'isHosted': False,\n",
              "   'pillarId': 'pillar/news',\n",
              "   'pillarName': 'News'}}}"
            ]
          },
          "metadata": {},
          "execution_count": 11
        }
      ],
      "source": [
        "article_content = r.get(f'{data[\"response\"][\"results\"][0][\"apiUrl\"]}?api-key={guardian_api_key}&show-fields=bodyText')\n",
        "article_content.json()"
      ]
    },
    {
      "cell_type": "code",
      "source": [
        "text_mining=\"Resources and gambling companies have been told to “pull their head in” and not expect public sympathy after taking high-profile actions to resist recent tax increases by the Queensland government. BHP’s chief executive, Mike Henry, last week said the mining giant would pause plans for its Blackwater South coalmine because of the state’s new royalty regime, unveiled as part of the June budget. Henry said the royalty changes “didn’t involve any engagement with industry” and increased risk for the company in Queensland. The move came amid windfall profits for BHP and despite the fact the company sought environmental approval from the federal government for the mine on 8 June, after the Queensland government had already flagged it was on the verge of increasing royalties. The mine is not expected to open before 2029. Ian Macfarlane, the chief executive of the Queensland Resources Council, met with the state treasurer, Cameron Dick, on 26 May to discuss the likelihood of coal royalties being increased after the expiry of a 10-year freeze. Queensland Conservation Council’s director, Dave Copeman, said it was only fair mining companies paid a reasonable amount of taxes after a decade without rises to coal royalties. “I think the resources companies need to pull their head in,” he said. “They can’t be out in the community spruiking all of the benefits [of mining], and then when it comes to actually paying their fair share of tax, go to war. “That hypocrisy is the reason why I don’t see the Queensland government backing down on this.” The state has also faced intense pressure from online wagering companies in recent weeks over an increase in the betting tax. Ladbrokes deprioritised Queensland horse races from its mobile apps and axed a $7.5m Brisbane Broncos sponsorship in response to the government’s plan to raise an additional $80m for the state’s racing industry via increased betting taxes. Sportsbet also pushed down the state’s races on its app – a move it has since reversed after making a deal with Racing Queensland. John Quiggin, a laureate fellow in economics at the University of Queensland, said he did not expect the mining or gambling industries to receive a great deal of public sympathy over the taxes. “The answer really is someone has to pay,” Quiggin said. “What you have is, on the one hand the mining industry that’s doing spectacularly well … and on the other hand the gambling industry which largely relies on government toleration to get the money it does.” Tim Costello, an advocate from the Alliance for Gambling Reform, said it was not surprising to see bookmakers push back against the tax increases. “We’ve been very blind to the political muscle and state capture by gambling interests here in Australia,” Costello said. “They have transformed their wealth into political power.” A spokesperson for the treasurer said the state government would proceed with the revenue changes, which were “made in the interest of all Queenslanders”. The spokesperson noted changes to the royalties were passed in state parliament with no opposition. “They are designed to ensure companies operating in Queensland pay their fair share and that Queenslanders get their fair share,” the spokesperson said. Macfarlane said on Sunday the hike in coal royalties was an “astronomical increase” and that companies were only given a few weeks’ notice of the plan. Guardian Australia has contacted BHP, Sportsbet and Ladbrokes for comment. • In Australia, the crisis support service Lifeline is 13 11 14. Gambling Help Online is available on 1800 858 858 and the National Debt Helpline is at 1800 007 007\"\n",
        "\n",
        "tokenized = nltk.word_tokenize(text_rio)\n",
        "pos_tagged = nltk.pos_tag(tokenized)\n",
        "chunks = nltk.ne_chunk(pos_tagged)\n",
        "for chunk in chunks:\n",
        "    if hasattr(chunk, 'label'):\n",
        "        print(chunk)"
      ],
      "metadata": {
        "colab": {
          "base_uri": "https://localhost:8080/"
        },
        "id": "gDgE-6WxVmt1",
        "outputId": "4804d66a-0f35-457a-c314-69c6a65f00be"
      },
      "id": "gDgE-6WxVmt1",
      "execution_count": 12,
      "outputs": [
        {
          "output_type": "stream",
          "name": "stdout",
          "text": [
            "(ORGANIZATION Tinto/NNP)\n",
            "(GPE Australian/JJ)\n",
            "(GPE Singapore/NNP)\n",
            "(ORGANIZATION ATO/NNP)\n",
            "(GPE Australian/JJ)\n",
            "(ORGANIZATION ATO/NNP)\n",
            "(PERSON Rebecca/NNP Saint/NNP)\n",
            "(ORGANIZATION ATO/NNP)\n",
            "(GPE Australian/JJ)\n",
            "(ORGANIZATION Rio/NNP)\n",
            "(GPE Australia/NNP)\n",
            "(ORGANIZATION ATO/NNP)\n",
            "(PERSON Rio/NNP Tinto/NNP)\n",
            "(GPE Singapore/NNP)\n",
            "(ORGANIZATION BHP/NNP)\n",
            "(GPE Australia/NNP)\n",
            "(ORGANIZATION ATO/NNP)\n",
            "(ORGANIZATION ATO/NNP)\n",
            "(PERSON Rio/NNP Tinto/NNP)\n",
            "(GPE Guardian/JJ)\n",
            "(GPE Australia/NNP)\n",
            "(ORGANIZATION ATO/NNP)\n",
            "(PERSON Rio/NNP Tinto/NNP)\n",
            "(ORGANIZATION Inland/NNP Revenue/NNP)\n",
            "(GPE Singapore/NNP)\n",
            "(GPE Iras/NNP)\n",
            "(GPE Australia/NNP)\n",
            "(GPE Singapore/NNP)\n",
            "(ORGANIZATION ATO/NNP)\n",
            "(GPE Iras/NNP)\n",
            "(GPE Singapore/NNP)\n",
            "(PERSON Peter/NNP Cunningham/NNP)\n",
            "(GPE Singapore/NNP)\n",
            "(GPE Albanese/JJ)\n",
            "(PERSON Andrew/NNP Leigh/NNP)\n"
          ]
        }
      ]
    },
    {
      "cell_type": "markdown",
      "id": "c46c1e97",
      "metadata": {
        "id": "c46c1e97"
      },
      "source": [
        "# Sentiment analysis"
      ]
    },
    {
      "cell_type": "code",
      "execution_count": 12,
      "id": "24a46b3a",
      "metadata": {
        "id": "24a46b3a"
      },
      "outputs": [],
      "source": [
        "#Setting the correct text encoding of the HTML page\n",
        "r.encoding = 'utf-8'"
      ]
    },
    {
      "cell_type": "code",
      "execution_count": 13,
      "id": "19c98ebc",
      "metadata": {
        "id": "19c98ebc"
      },
      "outputs": [],
      "source": [
        "html = article_content.text"
      ]
    },
    {
      "cell_type": "code",
      "execution_count": 14,
      "id": "b5b4a26a",
      "metadata": {
        "colab": {
          "base_uri": "https://localhost:8080/"
        },
        "id": "b5b4a26a",
        "outputId": "45425584-c5e9-4725-d82a-98de204504dd"
      },
      "outputs": [
        {
          "output_type": "stream",
          "name": "stdout",
          "text": [
            "{\"response\":{\"status\":\"ok\",\"userTier\":\"developer\",\"total\":1,\"content\":{\"id\":\"australia-news/2022/aug/24/pay-up-mining-and-gambling-companies-told-not-to-expect-sympathy-over-queensland-tax-hikes\",\"type\":\"article\",\"sectionId\":\"australia-news\",\"sectionName\":\"Australia news\",\"webPublicationDate\":\"2022-08-23T17:30:12Z\",\"webTitle\":\"Pay up: mining and gambling companies told not to expect sympathy over Queensland tax hikes\",\"webUrl\":\"https://www.theguardian.com/australia-news/2022/aug/24/pay-up-mining\n"
          ]
        }
      ],
      "source": [
        "# Printing the first 500 characters in html\n",
        "print(html[:500])"
      ]
    },
    {
      "cell_type": "code",
      "execution_count": 15,
      "id": "b0bc4424",
      "metadata": {
        "id": "b0bc4424"
      },
      "outputs": [],
      "source": [
        "# Creating a BeautifulSoup object from the HTML\n",
        "soup = BeautifulSoup(html)\n",
        "# Getting the text out of the soup\n",
        "text = soup.get_text()\n"
      ]
    },
    {
      "cell_type": "code",
      "execution_count": 13,
      "id": "04ab21db",
      "metadata": {
        "colab": {
          "base_uri": "https://localhost:8080/"
        },
        "id": "04ab21db",
        "outputId": "03a4d807-a843-4219-87c1-40759830cb68"
      },
      "outputs": [
        {
          "output_type": "execute_result",
          "data": {
            "text/plain": [
              "794"
            ]
          },
          "metadata": {},
          "execution_count": 13
        }
      ],
      "source": [
        "#total length\n",
        "len(text)"
      ]
    },
    {
      "cell_type": "code",
      "execution_count": 14,
      "id": "1c90251f",
      "metadata": {
        "colab": {
          "base_uri": "https://localhost:8080/"
        },
        "id": "1c90251f",
        "outputId": "165b083c-f395-4582-89d4-68a2190fa6d0"
      },
      "outputs": [
        {
          "output_type": "stream",
          "name": "stdout",
          "text": [
            "hy after taking high-profile actions to resist recent tax increases by the Queensland government. BHP’s chief executive, Mike Henry, last week said the mining giant would pause plans for its Blackwater South coalmine because of the state’s new royalty regime, unveiled as part of the June budget. Henry said the royalty changes “didn’t involve any engagement with industry” and increased risk for the company in Queensland. The move came amid windfall profits for BHP and despite the fact the company sought environmental approval from the federal government for the mine on 8 June, after the Queensland government had already flagged it was on the verge of increasing royalties. The mine is not expected to open before 2029. Ian Macfarlane, the chief executive of the Queensland Resources Council, met with the state treasurer, Cameron Dick, on 26 May to discuss the likelihood of coal royalties being increased after the expiry of a 10-year freeze. Queensland Conservation Council’s director, Dave \n"
          ]
        }
      ],
      "source": [
        "#having a look at the text\n",
        "print(text_mining[100:1100])"
      ]
    },
    {
      "cell_type": "code",
      "execution_count": 16,
      "id": "b63f4135",
      "metadata": {
        "id": "b63f4135"
      },
      "outputs": [],
      "source": [
        "#clean_text= text_mining.replace(\"n\", \" \")\n",
        "clean_text= text_mining.replace(\"/\", \" \")       \n",
        "clean_text= ''.join([c for c in clean_text if c != \"'\"])"
      ]
    },
    {
      "cell_type": "code",
      "execution_count": 20,
      "id": "3b9cf846",
      "metadata": {
        "colab": {
          "base_uri": "https://localhost:8080/",
          "height": 143
        },
        "id": "3b9cf846",
        "outputId": "6ddd83f8-9ca1-4b75-9e0a-df30c03640ca"
      },
      "outputs": [
        {
          "output_type": "execute_result",
          "data": {
            "text/plain": [
              "'Resources a d gambli g compa ies have bee  told to “pull their head i ” a d  ot expect public sympathy after taki g high-profile actio s to resist rece t tax i creases by the Quee sla d gover me t. BHP’s chief executive, Mike He ry, last week said the mi i g gia t would pause pla s for its Blackwater South coalmi e because of the state’s  ew royalty regime, u veiled as part of the Ju e budget. He ry said the royalty cha ges “did ’t i volve a y e gageme t with i dustry” a d i creased risk for the compa y i  Quee sla d. The move came amid wi dfall profits for BHP a d despite the fact the compa y sought e viro me tal approval from the federal gover me t for the mi e o  8 Ju e, after the Quee sla d gover me t had already flagged it was o  the verge of i creasi g royalties. The mi e is  ot expected to ope  before 2029. Ia  Macfarla e, the chief executive of the Quee sla d Resources Cou cil, met with the state treasurer, Camero  Dick, o  26 May to discuss the likelihood of coal royalties bei g i creased after the expiry of a 10-year freeze. Quee sla d Co servatio  Cou cil’s director, Dave Copema , said it was o ly fair mi i g compa ies paid a reaso able amou t of taxes after a decade without rises to coal royalties. “I thi k the resources compa ies  eed to pull their head i ,” he said. “They ca ’t be out i  the commu ity spruiki g all of the be efits [of mi i g], a d the  whe  it comes to actually payi g their fair share of tax, go to war. “That hypocrisy is the reaso  why I do ’t see the Quee sla d gover me t backi g dow  o  this.” The state has also faced i te se pressure from o li e wageri g compa ies i  rece t weeks over a  i crease i  the betti g tax. Ladbrokes deprioritised Quee sla d horse races from its mobile apps a d axed a $7.5m Brisba e Bro cos spo sorship i  respo se to the gover me t’s pla  to raise a  additio al $80m for the state’s raci g i dustry via i creased betti g taxes. Sportsbet also pushed dow  the state’s races o  its app – a move it has si ce reversed after maki g a deal with Raci g Quee sla d. Joh  Quiggi , a laureate fellow i  eco omics at the U iversity of Quee sla d, said he did  ot expect the mi i g or gambli g i dustries to receive a great deal of public sympathy over the taxes. “The a swer really is someo e has to pay,” Quiggi  said. “What you have is, o  the o e ha d the mi i g i dustry that’s doi g spectacularly well … a d o  the other ha d the gambli g i dustry which largely relies o  gover me t toleratio  to get the mo ey it does.” Tim Costello, a  advocate from the Allia ce for Gambli g Reform, said it was  ot surprisi g to see bookmakers push back agai st the tax i creases. “We’ve bee  very bli d to the political muscle a d state capture by gambli g i terests here i  Australia,” Costello said. “They have tra sformed their wealth i to political power.” A spokesperso  for the treasurer said the state gover me t would proceed with the reve ue cha ges, which were “made i  the i terest of all Quee sla ders”. The spokesperso   oted cha ges to the royalties were passed i  state parliame t with  o oppositio . “They are desig ed to e sure compa ies operati g i  Quee sla d pay their fair share a d that Quee sla ders get their fair share,” the spokesperso  said. Macfarla e said o  Su day the hike i  coal royalties was a  “astro omical i crease” a d that compa ies were o ly give  a few weeks’  otice of the pla . Guardia  Australia has co tacted BHP, Sportsbet a d Ladbrokes for comme t. • I  Australia, the crisis support service Lifeli e is 13 11 14. Gambli g Help O li e is available o  1800 858 858 a d the Natio al Debt Helpli e is at 1800 007 007'"
            ],
            "application/vnd.google.colaboratory.intrinsic+json": {
              "type": "string"
            }
          },
          "metadata": {},
          "execution_count": 20
        }
      ],
      "source": [
        "clean_text"
      ]
    },
    {
      "cell_type": "code",
      "execution_count": 17,
      "id": "844e7811",
      "metadata": {
        "id": "844e7811"
      },
      "outputs": [],
      "source": [
        "#Now, we split the text into individual sentences.\n",
        "sentence=[]\n",
        "tokens = nlp(clean_text)\n",
        "for sent in tokens.sents:\n",
        "    sentence.append((sent.text.strip()))"
      ]
    },
    {
      "cell_type": "code",
      "execution_count": 18,
      "id": "153a5ba0",
      "metadata": {
        "colab": {
          "base_uri": "https://localhost:8080/"
        },
        "id": "153a5ba0",
        "outputId": "ab8ac423-d493-4747-cb4e-f6119e220b8e"
      },
      "outputs": [
        {
          "output_type": "execute_result",
          "data": {
            "text/plain": [
              "['Resources and gambling companies have been told to “pull their head in” and not expect public sympathy after taking high-profile actions to resist recent tax increases by the Queensland government.',\n",
              " 'BHP’s chief executive, Mike Henry, last week said the mining giant would pause plans for its Blackwater South coalmine because of the state’s new royalty regime, unveiled as part of the June budget.',\n",
              " 'Henry said the royalty changes “didn’t involve any engagement with industry” and increased risk for the company in Queensland.',\n",
              " 'The move came amid windfall profits for BHP and despite the fact the company sought environmental approval from the federal government for the mine on 8 June, after the Queensland government had already flagged it was on the verge of increasing royalties.',\n",
              " 'The mine is not expected to open before 2029.',\n",
              " 'Ian Macfarlane, the chief executive of the Queensland Resources Council, met with the state treasurer, Cameron Dick, on 26 May to discuss the likelihood of coal royalties being increased after the expiry of a 10-year freeze.',\n",
              " 'Queensland Conservation Council’s director, Dave Copeman, said it was only fair mining companies paid a reasonable amount of taxes after a decade without rises to coal royalties.',\n",
              " '“I think the resources companies need to pull their head in,” he said.',\n",
              " '“They can’t be out in the community spruiking all of the benefits [of mining], and then when it comes to actually paying their fair share of tax, go to war.',\n",
              " '“That hypocrisy is the reason why I don’t see the Queensland government backing down on this.”',\n",
              " 'The state has also faced intense pressure from online wagering companies in recent weeks over an increase in the betting tax.',\n",
              " 'Ladbrokes deprioritised Queensland horse races from its mobile apps and axed a $7.5m Brisbane Broncos sponsorship in response to the government’s plan to raise an additional $80m for the state’s racing industry via increased betting taxes.',\n",
              " 'Sportsbet also pushed down the state’s races on its app – a move it has since reversed after making a deal with Racing Queensland.',\n",
              " 'John Quiggin, a laureate fellow in economics at the University of Queensland, said he did not expect the mining or gambling industries to receive a great deal of public sympathy over the taxes.',\n",
              " '“The answer really is someone has to pay,” Quiggin said.',\n",
              " '“What you have is, on the one hand the mining industry that’s doing spectacularly well … and on the other hand the gambling industry which largely relies on government toleration to get the money it does.”',\n",
              " 'Tim Costello, an advocate from the Alliance for Gambling Reform, said it was not surprising to see bookmakers push back against the tax increases.',\n",
              " '“We’ve been very blind to the political muscle and state capture by gambling interests here in Australia,” Costello said.',\n",
              " '“They have transformed their wealth into political power.”',\n",
              " 'A spokesperson for the treasurer said the state government would proceed with the revenue changes, which were “made in the interest of all Queenslanders”.',\n",
              " 'The spokesperson noted changes to the royalties were passed in state parliament with no opposition.',\n",
              " '“They are designed to ensure companies operating in Queensland pay their fair share and that Queenslanders get their fair share,” the spokesperson said.',\n",
              " 'Macfarlane said on Sunday the hike in coal royalties was an “astronomical increase” and that companies were only given a few weeks’ notice of the plan.',\n",
              " 'Guardian Australia has contacted BHP, Sportsbet and Ladbrokes for comment.',\n",
              " '• In Australia, the crisis support service Lifeline is 13 11 14.',\n",
              " 'Gambling Help Online is available on 1800 858 858 and the National Debt Helpline is at 1800 007 007']"
            ]
          },
          "metadata": {},
          "execution_count": 18
        }
      ],
      "source": [
        "sentence"
      ]
    },
    {
      "cell_type": "code",
      "source": [
        "#How many sentences are there in the data?\n",
        "print(len(sentence))"
      ],
      "metadata": {
        "colab": {
          "base_uri": "https://localhost:8080/"
        },
        "id": "qdr1PcOFdwb8",
        "outputId": "aabeb239-0579-44c5-9532-7d88a1b7bcea"
      },
      "id": "qdr1PcOFdwb8",
      "execution_count": 19,
      "outputs": [
        {
          "output_type": "stream",
          "name": "stdout",
          "text": [
            "26\n"
          ]
        }
      ]
    },
    {
      "cell_type": "code",
      "source": [
        "print(sentence[2])"
      ],
      "metadata": {
        "colab": {
          "base_uri": "https://localhost:8080/"
        },
        "id": "hNejXr-Qd5OR",
        "outputId": "b8288210-96b2-4a23-f29d-e173024609bf"
      },
      "id": "hNejXr-Qd5OR",
      "execution_count": 20,
      "outputs": [
        {
          "output_type": "stream",
          "name": "stdout",
          "text": [
            "Henry said the royalty changes “didn’t involve any engagement with industry” and increased risk for the company in Queensland.\n"
          ]
        }
      ]
    },
    {
      "cell_type": "markdown",
      "source": [
        "Sentiment Analysis with Textblob\n",
        "Textblob is a Python library for text processing and NLP. Textblob has built-in functions for performing sentiment analysis. The function returns a score for polarity and subjectivity.\n",
        "\n",
        "Polarity score can be positive or negative, and Subjectivity varies between 0 and 1."
      ],
      "metadata": {
        "id": "3gR9eOqMeBZi"
      },
      "id": "3gR9eOqMeBZi"
    },
    {
      "cell_type": "code",
      "source": [
        "#create an empty list and get all the data\n",
        "textblob_sentiment=[]\n",
        "for s in sentence:\n",
        "    txt= TextBlob(s)\n",
        "    a= txt.sentiment.polarity\n",
        "    b= txt.sentiment.subjectivity\n",
        "    textblob_sentiment.append([s,a,b])"
      ],
      "metadata": {
        "id": "RJ48YACveA3d"
      },
      "id": "RJ48YACveA3d",
      "execution_count": 21,
      "outputs": []
    },
    {
      "cell_type": "code",
      "source": [
        "#convert this list to a data frame\n",
        "df_textblob = pd.DataFrame(textblob_sentiment, columns =['Sentence', 'Polarity', 'Subjectivity'])"
      ],
      "metadata": {
        "id": "PZmQQxVbeRMg"
      },
      "id": "PZmQQxVbeRMg",
      "execution_count": 22,
      "outputs": []
    },
    {
      "cell_type": "code",
      "source": [
        "df_textblob.head()"
      ],
      "metadata": {
        "colab": {
          "base_uri": "https://localhost:8080/",
          "height": 206
        },
        "id": "Lh2m9LNgeYbq",
        "outputId": "b48b3ea8-c8f3-47b0-a2d6-90e5d9f7ece3"
      },
      "id": "Lh2m9LNgeYbq",
      "execution_count": 23,
      "outputs": [
        {
          "output_type": "execute_result",
          "data": {
            "text/plain": [
              "                                            Sentence  Polarity  Subjectivity\n",
              "0  Resources and gambling companies have been tol...  0.000000      0.158333\n",
              "1  BHP’s chief executive, Mike Henry, last week s...  0.045455      0.507071\n",
              "2  Henry said the royalty changes “didn’t involve...  0.000000      0.000000\n",
              "3  The move came amid windfall profits for BHP an...  0.000000      0.000000\n",
              "4      The mine is not expected to open before 2029.  0.025000      0.450000"
            ],
            "text/html": [
              "\n",
              "  <div id=\"df-d54a3baa-061b-483c-8d53-e986076c37bb\">\n",
              "    <div class=\"colab-df-container\">\n",
              "      <div>\n",
              "<style scoped>\n",
              "    .dataframe tbody tr th:only-of-type {\n",
              "        vertical-align: middle;\n",
              "    }\n",
              "\n",
              "    .dataframe tbody tr th {\n",
              "        vertical-align: top;\n",
              "    }\n",
              "\n",
              "    .dataframe thead th {\n",
              "        text-align: right;\n",
              "    }\n",
              "</style>\n",
              "<table border=\"1\" class=\"dataframe\">\n",
              "  <thead>\n",
              "    <tr style=\"text-align: right;\">\n",
              "      <th></th>\n",
              "      <th>Sentence</th>\n",
              "      <th>Polarity</th>\n",
              "      <th>Subjectivity</th>\n",
              "    </tr>\n",
              "  </thead>\n",
              "  <tbody>\n",
              "    <tr>\n",
              "      <th>0</th>\n",
              "      <td>Resources and gambling companies have been tol...</td>\n",
              "      <td>0.000000</td>\n",
              "      <td>0.158333</td>\n",
              "    </tr>\n",
              "    <tr>\n",
              "      <th>1</th>\n",
              "      <td>BHP’s chief executive, Mike Henry, last week s...</td>\n",
              "      <td>0.045455</td>\n",
              "      <td>0.507071</td>\n",
              "    </tr>\n",
              "    <tr>\n",
              "      <th>2</th>\n",
              "      <td>Henry said the royalty changes “didn’t involve...</td>\n",
              "      <td>0.000000</td>\n",
              "      <td>0.000000</td>\n",
              "    </tr>\n",
              "    <tr>\n",
              "      <th>3</th>\n",
              "      <td>The move came amid windfall profits for BHP an...</td>\n",
              "      <td>0.000000</td>\n",
              "      <td>0.000000</td>\n",
              "    </tr>\n",
              "    <tr>\n",
              "      <th>4</th>\n",
              "      <td>The mine is not expected to open before 2029.</td>\n",
              "      <td>0.025000</td>\n",
              "      <td>0.450000</td>\n",
              "    </tr>\n",
              "  </tbody>\n",
              "</table>\n",
              "</div>\n",
              "      <button class=\"colab-df-convert\" onclick=\"convertToInteractive('df-d54a3baa-061b-483c-8d53-e986076c37bb')\"\n",
              "              title=\"Convert this dataframe to an interactive table.\"\n",
              "              style=\"display:none;\">\n",
              "        \n",
              "  <svg xmlns=\"http://www.w3.org/2000/svg\" height=\"24px\"viewBox=\"0 0 24 24\"\n",
              "       width=\"24px\">\n",
              "    <path d=\"M0 0h24v24H0V0z\" fill=\"none\"/>\n",
              "    <path d=\"M18.56 5.44l.94 2.06.94-2.06 2.06-.94-2.06-.94-.94-2.06-.94 2.06-2.06.94zm-11 1L8.5 8.5l.94-2.06 2.06-.94-2.06-.94L8.5 2.5l-.94 2.06-2.06.94zm10 10l.94 2.06.94-2.06 2.06-.94-2.06-.94-.94-2.06-.94 2.06-2.06.94z\"/><path d=\"M17.41 7.96l-1.37-1.37c-.4-.4-.92-.59-1.43-.59-.52 0-1.04.2-1.43.59L10.3 9.45l-7.72 7.72c-.78.78-.78 2.05 0 2.83L4 21.41c.39.39.9.59 1.41.59.51 0 1.02-.2 1.41-.59l7.78-7.78 2.81-2.81c.8-.78.8-2.07 0-2.86zM5.41 20L4 18.59l7.72-7.72 1.47 1.35L5.41 20z\"/>\n",
              "  </svg>\n",
              "      </button>\n",
              "      \n",
              "  <style>\n",
              "    .colab-df-container {\n",
              "      display:flex;\n",
              "      flex-wrap:wrap;\n",
              "      gap: 12px;\n",
              "    }\n",
              "\n",
              "    .colab-df-convert {\n",
              "      background-color: #E8F0FE;\n",
              "      border: none;\n",
              "      border-radius: 50%;\n",
              "      cursor: pointer;\n",
              "      display: none;\n",
              "      fill: #1967D2;\n",
              "      height: 32px;\n",
              "      padding: 0 0 0 0;\n",
              "      width: 32px;\n",
              "    }\n",
              "\n",
              "    .colab-df-convert:hover {\n",
              "      background-color: #E2EBFA;\n",
              "      box-shadow: 0px 1px 2px rgba(60, 64, 67, 0.3), 0px 1px 3px 1px rgba(60, 64, 67, 0.15);\n",
              "      fill: #174EA6;\n",
              "    }\n",
              "\n",
              "    [theme=dark] .colab-df-convert {\n",
              "      background-color: #3B4455;\n",
              "      fill: #D2E3FC;\n",
              "    }\n",
              "\n",
              "    [theme=dark] .colab-df-convert:hover {\n",
              "      background-color: #434B5C;\n",
              "      box-shadow: 0px 1px 3px 1px rgba(0, 0, 0, 0.15);\n",
              "      filter: drop-shadow(0px 1px 2px rgba(0, 0, 0, 0.3));\n",
              "      fill: #FFFFFF;\n",
              "    }\n",
              "  </style>\n",
              "\n",
              "      <script>\n",
              "        const buttonEl =\n",
              "          document.querySelector('#df-d54a3baa-061b-483c-8d53-e986076c37bb button.colab-df-convert');\n",
              "        buttonEl.style.display =\n",
              "          google.colab.kernel.accessAllowed ? 'block' : 'none';\n",
              "\n",
              "        async function convertToInteractive(key) {\n",
              "          const element = document.querySelector('#df-d54a3baa-061b-483c-8d53-e986076c37bb');\n",
              "          const dataTable =\n",
              "            await google.colab.kernel.invokeFunction('convertToInteractive',\n",
              "                                                     [key], {});\n",
              "          if (!dataTable) return;\n",
              "\n",
              "          const docLinkHtml = 'Like what you see? Visit the ' +\n",
              "            '<a target=\"_blank\" href=https://colab.research.google.com/notebooks/data_table.ipynb>data table notebook</a>'\n",
              "            + ' to learn more about interactive tables.';\n",
              "          element.innerHTML = '';\n",
              "          dataTable['output_type'] = 'display_data';\n",
              "          await google.colab.output.renderOutput(dataTable, element);\n",
              "          const docLink = document.createElement('div');\n",
              "          docLink.innerHTML = docLinkHtml;\n",
              "          element.appendChild(docLink);\n",
              "        }\n",
              "      </script>\n",
              "    </div>\n",
              "  </div>\n",
              "  "
            ]
          },
          "metadata": {},
          "execution_count": 23
        }
      ]
    },
    {
      "cell_type": "code",
      "source": [
        "df_textblob.info()"
      ],
      "metadata": {
        "colab": {
          "base_uri": "https://localhost:8080/"
        },
        "id": "V9EuoWKieeyp",
        "outputId": "498dd998-f742-4f18-af4f-3b3513acec5e"
      },
      "id": "V9EuoWKieeyp",
      "execution_count": 24,
      "outputs": [
        {
          "output_type": "stream",
          "name": "stdout",
          "text": [
            "<class 'pandas.core.frame.DataFrame'>\n",
            "RangeIndex: 26 entries, 0 to 25\n",
            "Data columns (total 3 columns):\n",
            " #   Column        Non-Null Count  Dtype  \n",
            "---  ------        --------------  -----  \n",
            " 0   Sentence      26 non-null     object \n",
            " 1   Polarity      26 non-null     float64\n",
            " 2   Subjectivity  26 non-null     float64\n",
            "dtypes: float64(2), object(1)\n",
            "memory usage: 752.0+ bytes\n"
          ]
        }
      ]
    },
    {
      "cell_type": "code",
      "source": [
        "# analyse the sentence polarity\n",
        "sns.displot(df_textblob[\"Polarity\"], height= 5, aspect=1.8)\n",
        "plt.xlabel(\"Sentence Polarity (Textblob)\")\n"
      ],
      "metadata": {
        "colab": {
          "base_uri": "https://localhost:8080/",
          "height": 387
        },
        "id": "tVKDGMzBeka-",
        "outputId": "b1c3e8f4-628b-445f-efc7-1d66ebf22543"
      },
      "id": "tVKDGMzBeka-",
      "execution_count": 25,
      "outputs": [
        {
          "output_type": "execute_result",
          "data": {
            "text/plain": [
              "Text(0.5, 6.79999999999999, 'Sentence Polarity (Textblob)')"
            ]
          },
          "metadata": {},
          "execution_count": 25
        },
        {
          "output_type": "display_data",
          "data": {
            "text/plain": [
              "<Figure size 648x360 with 1 Axes>"
            ],
            "image/png": "[encoded data removed]"
          },
          "metadata": {
            "needs_background": "light"
          }
        }
      ]
    },
    {
      "cell_type": "markdown",
      "source": [
        "Due to some reason around half the sentences have zero polarity. Maybe, it’s because of the fact that they are neutral. A few sentences are highly positive and a few are negative."
      ],
      "metadata": {
        "id": "thyPsMmXezAh"
      },
      "id": "thyPsMmXezAh"
    },
    {
      "cell_type": "code",
      "source": [
        "#Examining subjectivity\n",
        "sns.displot(df_textblob[\"Subjectivity\"], height= 5, aspect=1.8)\n",
        "plt.xlabel(\"Sentence Subjectivity (Textblob)\")"
      ],
      "metadata": {
        "colab": {
          "base_uri": "https://localhost:8080/",
          "height": 387
        },
        "id": "hzDUD4gMe2mn",
        "outputId": "6b4ac788-b452-40af-9306-0f99cd5e7b4d"
      },
      "id": "hzDUD4gMe2mn",
      "execution_count": 26,
      "outputs": [
        {
          "output_type": "execute_result",
          "data": {
            "text/plain": [
              "Text(0.5, 6.79999999999999, 'Sentence Subjectivity (Textblob)')"
            ]
          },
          "metadata": {},
          "execution_count": 26
        },
        {
          "output_type": "display_data",
          "data": {
            "text/plain": [
              "<Figure size 648x360 with 1 Axes>"
            ],
            "image/png": "[encoded data removed]"
          },
          "metadata": {
            "needs_background": "light"
          }
        }
      ]
    },
    {
      "cell_type": "markdown",
      "source": [
        "The values of subjectivity also vary, with few sentences being highly subjective and a majority of sentences being less subjective."
      ],
      "metadata": {
        "id": "0xWp16LofIH_"
      },
      "id": "0xWp16LofIH_"
    },
    {
      "cell_type": "markdown",
      "source": [
        " # Sentiment Analysis with Pattern"
      ],
      "metadata": {
        "id": "-hixvp_qfPSl"
      },
      "id": "-hixvp_qfPSl"
    },
    {
      "cell_type": "code",
      "source": [
        "pattern_sentiment=[]\n",
        "for s in sentence:\n",
        "    res= sentiment(s)\n",
        "    c= res[0]\n",
        "    d= res[1]\n",
        "    pattern_sentiment.append([s,c,d])"
      ],
      "metadata": {
        "id": "m71OO2qOfYnZ"
      },
      "id": "m71OO2qOfYnZ",
      "execution_count": 27,
      "outputs": []
    },
    {
      "cell_type": "code",
      "source": [
        "pattern_sentiment[1]"
      ],
      "metadata": {
        "colab": {
          "base_uri": "https://localhost:8080/"
        },
        "id": "t1W3GyHKgJTY",
        "outputId": "c00301b7-4264-48a8-8c84-e79dd74ecb59"
      },
      "id": "t1W3GyHKgJTY",
      "execution_count": 28,
      "outputs": [
        {
          "output_type": "execute_result",
          "data": {
            "text/plain": [
              "['BHP’s chief executive, Mike Henry, last week said the mining giant would pause plans for its Blackwater South coalmine because of the state’s new royalty regime, unveiled as part of the June budget.',\n",
              " 0.04545454545454545,\n",
              " 0.5070707070707071]"
            ]
          },
          "metadata": {},
          "execution_count": 28
        }
      ]
    },
    {
      "cell_type": "code",
      "source": [
        "df_pattern = pd.DataFrame(textblob_sentiment, columns =['Sentence', 'Polarity', 'Subjectivity'])"
      ],
      "metadata": {
        "id": "qeFjRMpMgP4V"
      },
      "id": "qeFjRMpMgP4V",
      "execution_count": 29,
      "outputs": []
    },
    {
      "cell_type": "code",
      "source": [
        "df_pattern.head()\n",
        "\n"
      ],
      "metadata": {
        "colab": {
          "base_uri": "https://localhost:8080/",
          "height": 206
        },
        "id": "bHxTz205gVg5",
        "outputId": "10602752-22b9-4db2-ac34-9f9acb828bc5"
      },
      "id": "bHxTz205gVg5",
      "execution_count": 30,
      "outputs": [
        {
          "output_type": "execute_result",
          "data": {
            "text/plain": [
              "                                            Sentence  Polarity  Subjectivity\n",
              "0  Resources and gambling companies have been tol...  0.000000      0.158333\n",
              "1  BHP’s chief executive, Mike Henry, last week s...  0.045455      0.507071\n",
              "2  Henry said the royalty changes “didn’t involve...  0.000000      0.000000\n",
              "3  The move came amid windfall profits for BHP an...  0.000000      0.000000\n",
              "4      The mine is not expected to open before 2029.  0.025000      0.450000"
            ],
            "text/html": [
              "\n",
              "  <div id=\"df-1fe79497-3db1-42a1-9126-1ec808eaad2f\">\n",
              "    <div class=\"colab-df-container\">\n",
              "      <div>\n",
              "<style scoped>\n",
              "    .dataframe tbody tr th:only-of-type {\n",
              "        vertical-align: middle;\n",
              "    }\n",
              "\n",
              "    .dataframe tbody tr th {\n",
              "        vertical-align: top;\n",
              "    }\n",
              "\n",
              "    .dataframe thead th {\n",
              "        text-align: right;\n",
              "    }\n",
              "</style>\n",
              "<table border=\"1\" class=\"dataframe\">\n",
              "  <thead>\n",
              "    <tr style=\"text-align: right;\">\n",
              "      <th></th>\n",
              "      <th>Sentence</th>\n",
              "      <th>Polarity</th>\n",
              "      <th>Subjectivity</th>\n",
              "    </tr>\n",
              "  </thead>\n",
              "  <tbody>\n",
              "    <tr>\n",
              "      <th>0</th>\n",
              "      <td>Resources and gambling companies have been tol...</td>\n",
              "      <td>0.000000</td>\n",
              "      <td>0.158333</td>\n",
              "    </tr>\n",
              "    <tr>\n",
              "      <th>1</th>\n",
              "      <td>BHP’s chief executive, Mike Henry, last week s...</td>\n",
              "      <td>0.045455</td>\n",
              "      <td>0.507071</td>\n",
              "    </tr>\n",
              "    <tr>\n",
              "      <th>2</th>\n",
              "      <td>Henry said the royalty changes “didn’t involve...</td>\n",
              "      <td>0.000000</td>\n",
              "      <td>0.000000</td>\n",
              "    </tr>\n",
              "    <tr>\n",
              "      <th>3</th>\n",
              "      <td>The move came amid windfall profits for BHP an...</td>\n",
              "      <td>0.000000</td>\n",
              "      <td>0.000000</td>\n",
              "    </tr>\n",
              "    <tr>\n",
              "      <th>4</th>\n",
              "      <td>The mine is not expected to open before 2029.</td>\n",
              "      <td>0.025000</td>\n",
              "      <td>0.450000</td>\n",
              "    </tr>\n",
              "  </tbody>\n",
              "</table>\n",
              "</div>\n",
              "      <button class=\"colab-df-convert\" onclick=\"convertToInteractive('df-1fe79497-3db1-42a1-9126-1ec808eaad2f')\"\n",
              "              title=\"Convert this dataframe to an interactive table.\"\n",
              "              style=\"display:none;\">\n",
              "        \n",
              "  <svg xmlns=\"http://www.w3.org/2000/svg\" height=\"24px\"viewBox=\"0 0 24 24\"\n",
              "       width=\"24px\">\n",
              "    <path d=\"M0 0h24v24H0V0z\" fill=\"none\"/>\n",
              "    <path d=\"M18.56 5.44l.94 2.06.94-2.06 2.06-.94-2.06-.94-.94-2.06-.94 2.06-2.06.94zm-11 1L8.5 8.5l.94-2.06 2.06-.94-2.06-.94L8.5 2.5l-.94 2.06-2.06.94zm10 10l.94 2.06.94-2.06 2.06-.94-2.06-.94-.94-2.06-.94 2.06-2.06.94z\"/><path d=\"M17.41 7.96l-1.37-1.37c-.4-.4-.92-.59-1.43-.59-.52 0-1.04.2-1.43.59L10.3 9.45l-7.72 7.72c-.78.78-.78 2.05 0 2.83L4 21.41c.39.39.9.59 1.41.59.51 0 1.02-.2 1.41-.59l7.78-7.78 2.81-2.81c.8-.78.8-2.07 0-2.86zM5.41 20L4 18.59l7.72-7.72 1.47 1.35L5.41 20z\"/>\n",
              "  </svg>\n",
              "      </button>\n",
              "      \n",
              "  <style>\n",
              "    .colab-df-container {\n",
              "      display:flex;\n",
              "      flex-wrap:wrap;\n",
              "      gap: 12px;\n",
              "    }\n",
              "\n",
              "    .colab-df-convert {\n",
              "      background-color: #E8F0FE;\n",
              "      border: none;\n",
              "      border-radius: 50%;\n",
              "      cursor: pointer;\n",
              "      display: none;\n",
              "      fill: #1967D2;\n",
              "      height: 32px;\n",
              "      padding: 0 0 0 0;\n",
              "      width: 32px;\n",
              "    }\n",
              "\n",
              "    .colab-df-convert:hover {\n",
              "      background-color: #E2EBFA;\n",
              "      box-shadow: 0px 1px 2px rgba(60, 64, 67, 0.3), 0px 1px 3px 1px rgba(60, 64, 67, 0.15);\n",
              "      fill: #174EA6;\n",
              "    }\n",
              "\n",
              "    [theme=dark] .colab-df-convert {\n",
              "      background-color: #3B4455;\n",
              "      fill: #D2E3FC;\n",
              "    }\n",
              "\n",
              "    [theme=dark] .colab-df-convert:hover {\n",
              "      background-color: #434B5C;\n",
              "      box-shadow: 0px 1px 3px 1px rgba(0, 0, 0, 0.15);\n",
              "      filter: drop-shadow(0px 1px 2px rgba(0, 0, 0, 0.3));\n",
              "      fill: #FFFFFF;\n",
              "    }\n",
              "  </style>\n",
              "\n",
              "      <script>\n",
              "        const buttonEl =\n",
              "          document.querySelector('#df-1fe79497-3db1-42a1-9126-1ec808eaad2f button.colab-df-convert');\n",
              "        buttonEl.style.display =\n",
              "          google.colab.kernel.accessAllowed ? 'block' : 'none';\n",
              "\n",
              "        async function convertToInteractive(key) {\n",
              "          const element = document.querySelector('#df-1fe79497-3db1-42a1-9126-1ec808eaad2f');\n",
              "          const dataTable =\n",
              "            await google.colab.kernel.invokeFunction('convertToInteractive',\n",
              "                                                     [key], {});\n",
              "          if (!dataTable) return;\n",
              "\n",
              "          const docLinkHtml = 'Like what you see? Visit the ' +\n",
              "            '<a target=\"_blank\" href=https://colab.research.google.com/notebooks/data_table.ipynb>data table notebook</a>'\n",
              "            + ' to learn more about interactive tables.';\n",
              "          element.innerHTML = '';\n",
              "          dataTable['output_type'] = 'display_data';\n",
              "          await google.colab.output.renderOutput(dataTable, element);\n",
              "          const docLink = document.createElement('div');\n",
              "          docLink.innerHTML = docLinkHtml;\n",
              "          element.appendChild(docLink);\n",
              "        }\n",
              "      </script>\n",
              "    </div>\n",
              "  </div>\n",
              "  "
            ]
          },
          "metadata": {},
          "execution_count": 30
        }
      ]
    },
    {
      "cell_type": "code",
      "source": [
        "df_pattern.info()"
      ],
      "metadata": {
        "colab": {
          "base_uri": "https://localhost:8080/"
        },
        "id": "bTLN0rCfgeYC",
        "outputId": "4c6e1e26-a622-439e-c2c1-da32d915794e"
      },
      "id": "bTLN0rCfgeYC",
      "execution_count": 31,
      "outputs": [
        {
          "output_type": "stream",
          "name": "stdout",
          "text": [
            "<class 'pandas.core.frame.DataFrame'>\n",
            "RangeIndex: 26 entries, 0 to 25\n",
            "Data columns (total 3 columns):\n",
            " #   Column        Non-Null Count  Dtype  \n",
            "---  ------        --------------  -----  \n",
            " 0   Sentence      26 non-null     object \n",
            " 1   Polarity      26 non-null     float64\n",
            " 2   Subjectivity  26 non-null     float64\n",
            "dtypes: float64(2), object(1)\n",
            "memory usage: 752.0+ bytes\n"
          ]
        }
      ]
    },
    {
      "cell_type": "code",
      "source": [
        "sns.displot(df_pattern[\"Polarity\"], height= 5, aspect=1.8)\n",
        "plt.xlabel(\"Sentence Polarity (Pattern)\")"
      ],
      "metadata": {
        "colab": {
          "base_uri": "https://localhost:8080/",
          "height": 387
        },
        "id": "psnNA6K8ghVM",
        "outputId": "5e79095c-e9e1-42af-a98b-f2a6fcbee169"
      },
      "id": "psnNA6K8ghVM",
      "execution_count": 32,
      "outputs": [
        {
          "output_type": "execute_result",
          "data": {
            "text/plain": [
              "Text(0.5, 6.79999999999999, 'Sentence Polarity (Pattern)')"
            ]
          },
          "metadata": {},
          "execution_count": 32
        },
        {
          "output_type": "display_data",
          "data": {
            "text/plain": [
              "<Figure size 648x360 with 1 Axes>"
            ],
            "image/png": "[encoded data removed]"
          },
          "metadata": {
            "needs_background": "light"
          }
        }
      ]
    },
    {
      "cell_type": "code",
      "source": [
        "sns.displot(df_pattern[\"Subjectivity\"], height= 5, aspect=1.8)\n",
        "plt.xlabel(\"Sentence Subjectivity (Pattern)\")"
      ],
      "metadata": {
        "colab": {
          "base_uri": "https://localhost:8080/",
          "height": 387
        },
        "id": "OkRJlsY5gmQg",
        "outputId": "c6e346f8-e99b-4ec8-d323-08ae62d0cdc5"
      },
      "id": "OkRJlsY5gmQg",
      "execution_count": 33,
      "outputs": [
        {
          "output_type": "execute_result",
          "data": {
            "text/plain": [
              "Text(0.5, 6.79999999999999, 'Sentence Subjectivity (Pattern)')"
            ]
          },
          "metadata": {},
          "execution_count": 33
        },
        {
          "output_type": "display_data",
          "data": {
            "text/plain": [
              "<Figure size 648x360 with 1 Axes>"
            ],
            "image/png": "[encoded data removed]"
          },
          "metadata": {
            "needs_background": "light"
          }
        }
      ]
    },
    {
      "cell_type": "markdown",
      "source": [
        "# Word Frequency and Word Cloud"
      ],
      "metadata": {
        "id": "xFasQTu_gx4X"
      },
      "id": "xFasQTu_gx4X"
    },
    {
      "cell_type": "code",
      "source": [
        "#Tokenizing the text\n",
        "tokens=clean_text.split()\n",
        "tokens"
      ],
      "metadata": {
        "colab": {
          "base_uri": "https://localhost:8080/"
        },
        "id": "PuRbJb6Hg4eo",
        "outputId": "29d8bc1a-3c86-46b5-eb38-3068d5477377"
      },
      "id": "PuRbJb6Hg4eo",
      "execution_count": 58,
      "outputs": [
        {
          "output_type": "execute_result",
          "data": {
            "text/plain": [
              "['Resources',\n",
              " 'and',\n",
              " 'gambling',\n",
              " 'companies',\n",
              " 'have',\n",
              " 'been',\n",
              " 'told',\n",
              " 'to',\n",
              " '“pull',\n",
              " 'their',\n",
              " 'head',\n",
              " 'in”',\n",
              " 'and',\n",
              " 'not',\n",
              " 'expect',\n",
              " 'public',\n",
              " 'sympathy',\n",
              " 'after',\n",
              " 'taking',\n",
              " 'high-profile',\n",
              " 'actions',\n",
              " 'to',\n",
              " 'resist',\n",
              " 'recent',\n",
              " 'tax',\n",
              " 'increases',\n",
              " 'by',\n",
              " 'the',\n",
              " 'Queensland',\n",
              " 'government.',\n",
              " 'BHP’s',\n",
              " 'chief',\n",
              " 'executive,',\n",
              " 'Mike',\n",
              " 'Henry,',\n",
              " 'last',\n",
              " 'week',\n",
              " 'said',\n",
              " 'the',\n",
              " 'mining',\n",
              " 'giant',\n",
              " 'would',\n",
              " 'pause',\n",
              " 'plans',\n",
              " 'for',\n",
              " 'its',\n",
              " 'Blackwater',\n",
              " 'South',\n",
              " 'coalmine',\n",
              " 'because',\n",
              " 'of',\n",
              " 'the',\n",
              " 'state’s',\n",
              " 'new',\n",
              " 'royalty',\n",
              " 'regime,',\n",
              " 'unveiled',\n",
              " 'as',\n",
              " 'part',\n",
              " 'of',\n",
              " 'the',\n",
              " 'June',\n",
              " 'budget.',\n",
              " 'Henry',\n",
              " 'said',\n",
              " 'the',\n",
              " 'royalty',\n",
              " 'changes',\n",
              " '“didn’t',\n",
              " 'involve',\n",
              " 'any',\n",
              " 'engagement',\n",
              " 'with',\n",
              " 'industry”',\n",
              " 'and',\n",
              " 'increased',\n",
              " 'risk',\n",
              " 'for',\n",
              " 'the',\n",
              " 'company',\n",
              " 'in',\n",
              " 'Queensland.',\n",
              " 'The',\n",
              " 'move',\n",
              " 'came',\n",
              " 'amid',\n",
              " 'windfall',\n",
              " 'profits',\n",
              " 'for',\n",
              " 'BHP',\n",
              " 'and',\n",
              " 'despite',\n",
              " 'the',\n",
              " 'fact',\n",
              " 'the',\n",
              " 'company',\n",
              " 'sought',\n",
              " 'environmental',\n",
              " 'approval',\n",
              " 'from',\n",
              " 'the',\n",
              " 'federal',\n",
              " 'government',\n",
              " 'for',\n",
              " 'the',\n",
              " 'mine',\n",
              " 'on',\n",
              " '8',\n",
              " 'June,',\n",
              " 'after',\n",
              " 'the',\n",
              " 'Queensland',\n",
              " 'government',\n",
              " 'had',\n",
              " 'already',\n",
              " 'flagged',\n",
              " 'it',\n",
              " 'was',\n",
              " 'on',\n",
              " 'the',\n",
              " 'verge',\n",
              " 'of',\n",
              " 'increasing',\n",
              " 'royalties.',\n",
              " 'The',\n",
              " 'mine',\n",
              " 'is',\n",
              " 'not',\n",
              " 'expected',\n",
              " 'to',\n",
              " 'open',\n",
              " 'before',\n",
              " '2029.',\n",
              " 'Ian',\n",
              " 'Macfarlane,',\n",
              " 'the',\n",
              " 'chief',\n",
              " 'executive',\n",
              " 'of',\n",
              " 'the',\n",
              " 'Queensland',\n",
              " 'Resources',\n",
              " 'Council,',\n",
              " 'met',\n",
              " 'with',\n",
              " 'the',\n",
              " 'state',\n",
              " 'treasurer,',\n",
              " 'Cameron',\n",
              " 'Dick,',\n",
              " 'on',\n",
              " '26',\n",
              " 'May',\n",
              " 'to',\n",
              " 'discuss',\n",
              " 'the',\n",
              " 'likelihood',\n",
              " 'of',\n",
              " 'coal',\n",
              " 'royalties',\n",
              " 'being',\n",
              " 'increased',\n",
              " 'after',\n",
              " 'the',\n",
              " 'expiry',\n",
              " 'of',\n",
              " 'a',\n",
              " '10-year',\n",
              " 'freeze.',\n",
              " 'Queensland',\n",
              " 'Conservation',\n",
              " 'Council’s',\n",
              " 'director,',\n",
              " 'Dave',\n",
              " 'Copeman,',\n",
              " 'said',\n",
              " 'it',\n",
              " 'was',\n",
              " 'only',\n",
              " 'fair',\n",
              " 'mining',\n",
              " 'companies',\n",
              " 'paid',\n",
              " 'a',\n",
              " 'reasonable',\n",
              " 'amount',\n",
              " 'of',\n",
              " 'taxes',\n",
              " 'after',\n",
              " 'a',\n",
              " 'decade',\n",
              " 'without',\n",
              " 'rises',\n",
              " 'to',\n",
              " 'coal',\n",
              " 'royalties.',\n",
              " '“I',\n",
              " 'think',\n",
              " 'the',\n",
              " 'resources',\n",
              " 'companies',\n",
              " 'need',\n",
              " 'to',\n",
              " 'pull',\n",
              " 'their',\n",
              " 'head',\n",
              " 'in,”',\n",
              " 'he',\n",
              " 'said.',\n",
              " '“They',\n",
              " 'can’t',\n",
              " 'be',\n",
              " 'out',\n",
              " 'in',\n",
              " 'the',\n",
              " 'community',\n",
              " 'spruiking',\n",
              " 'all',\n",
              " 'of',\n",
              " 'the',\n",
              " 'benefits',\n",
              " '[of',\n",
              " 'mining],',\n",
              " 'and',\n",
              " 'then',\n",
              " 'when',\n",
              " 'it',\n",
              " 'comes',\n",
              " 'to',\n",
              " 'actually',\n",
              " 'paying',\n",
              " 'their',\n",
              " 'fair',\n",
              " 'share',\n",
              " 'of',\n",
              " 'tax,',\n",
              " 'go',\n",
              " 'to',\n",
              " 'war.',\n",
              " '“That',\n",
              " 'hypocrisy',\n",
              " 'is',\n",
              " 'the',\n",
              " 'reason',\n",
              " 'why',\n",
              " 'I',\n",
              " 'don’t',\n",
              " 'see',\n",
              " 'the',\n",
              " 'Queensland',\n",
              " 'government',\n",
              " 'backing',\n",
              " 'down',\n",
              " 'on',\n",
              " 'this.”',\n",
              " 'The',\n",
              " 'state',\n",
              " 'has',\n",
              " 'also',\n",
              " 'faced',\n",
              " 'intense',\n",
              " 'pressure',\n",
              " 'from',\n",
              " 'online',\n",
              " 'wagering',\n",
              " 'companies',\n",
              " 'in',\n",
              " 'recent',\n",
              " 'weeks',\n",
              " 'over',\n",
              " 'an',\n",
              " 'increase',\n",
              " 'in',\n",
              " 'the',\n",
              " 'betting',\n",
              " 'tax.',\n",
              " 'Ladbrokes',\n",
              " 'deprioritised',\n",
              " 'Queensland',\n",
              " 'horse',\n",
              " 'races',\n",
              " 'from',\n",
              " 'its',\n",
              " 'mobile',\n",
              " 'apps',\n",
              " 'and',\n",
              " 'axed',\n",
              " 'a',\n",
              " '$7.5m',\n",
              " 'Brisbane',\n",
              " 'Broncos',\n",
              " 'sponsorship',\n",
              " 'in',\n",
              " 'response',\n",
              " 'to',\n",
              " 'the',\n",
              " 'government’s',\n",
              " 'plan',\n",
              " 'to',\n",
              " 'raise',\n",
              " 'an',\n",
              " 'additional',\n",
              " '$80m',\n",
              " 'for',\n",
              " 'the',\n",
              " 'state’s',\n",
              " 'racing',\n",
              " 'industry',\n",
              " 'via',\n",
              " 'increased',\n",
              " 'betting',\n",
              " 'taxes.',\n",
              " 'Sportsbet',\n",
              " 'also',\n",
              " 'pushed',\n",
              " 'down',\n",
              " 'the',\n",
              " 'state’s',\n",
              " 'races',\n",
              " 'on',\n",
              " 'its',\n",
              " 'app',\n",
              " '–',\n",
              " 'a',\n",
              " 'move',\n",
              " 'it',\n",
              " 'has',\n",
              " 'since',\n",
              " 'reversed',\n",
              " 'after',\n",
              " 'making',\n",
              " 'a',\n",
              " 'deal',\n",
              " 'with',\n",
              " 'Racing',\n",
              " 'Queensland.',\n",
              " 'John',\n",
              " 'Quiggin,',\n",
              " 'a',\n",
              " 'laureate',\n",
              " 'fellow',\n",
              " 'in',\n",
              " 'economics',\n",
              " 'at',\n",
              " 'the',\n",
              " 'University',\n",
              " 'of',\n",
              " 'Queensland,',\n",
              " 'said',\n",
              " 'he',\n",
              " 'did',\n",
              " 'not',\n",
              " 'expect',\n",
              " 'the',\n",
              " 'mining',\n",
              " 'or',\n",
              " 'gambling',\n",
              " 'industries',\n",
              " 'to',\n",
              " 'receive',\n",
              " 'a',\n",
              " 'great',\n",
              " 'deal',\n",
              " 'of',\n",
              " 'public',\n",
              " 'sympathy',\n",
              " 'over',\n",
              " 'the',\n",
              " 'taxes.',\n",
              " '“The',\n",
              " 'answer',\n",
              " 'really',\n",
              " 'is',\n",
              " 'someone',\n",
              " 'has',\n",
              " 'to',\n",
              " 'pay,”',\n",
              " 'Quiggin',\n",
              " 'said.',\n",
              " '“What',\n",
              " 'you',\n",
              " 'have',\n",
              " 'is,',\n",
              " 'on',\n",
              " 'the',\n",
              " 'one',\n",
              " 'hand',\n",
              " 'the',\n",
              " 'mining',\n",
              " 'industry',\n",
              " 'that’s',\n",
              " 'doing',\n",
              " 'spectacularly',\n",
              " 'well',\n",
              " '…',\n",
              " 'and',\n",
              " 'on',\n",
              " 'the',\n",
              " 'other',\n",
              " 'hand',\n",
              " 'the',\n",
              " 'gambling',\n",
              " 'industry',\n",
              " 'which',\n",
              " 'largely',\n",
              " 'relies',\n",
              " 'on',\n",
              " 'government',\n",
              " 'toleration',\n",
              " 'to',\n",
              " 'get',\n",
              " 'the',\n",
              " 'money',\n",
              " 'it',\n",
              " 'does.”',\n",
              " 'Tim',\n",
              " 'Costello,',\n",
              " 'an',\n",
              " 'advocate',\n",
              " 'from',\n",
              " 'the',\n",
              " 'Alliance',\n",
              " 'for',\n",
              " 'Gambling',\n",
              " 'Reform,',\n",
              " 'said',\n",
              " 'it',\n",
              " 'was',\n",
              " 'not',\n",
              " 'surprising',\n",
              " 'to',\n",
              " 'see',\n",
              " 'bookmakers',\n",
              " 'push',\n",
              " 'back',\n",
              " 'against',\n",
              " 'the',\n",
              " 'tax',\n",
              " 'increases.',\n",
              " '“We’ve',\n",
              " 'been',\n",
              " 'very',\n",
              " 'blind',\n",
              " 'to',\n",
              " 'the',\n",
              " 'political',\n",
              " 'muscle',\n",
              " 'and',\n",
              " 'state',\n",
              " 'capture',\n",
              " 'by',\n",
              " 'gambling',\n",
              " 'interests',\n",
              " 'here',\n",
              " 'in',\n",
              " 'Australia,”',\n",
              " 'Costello',\n",
              " 'said.',\n",
              " '“They',\n",
              " 'have',\n",
              " 'transformed',\n",
              " 'their',\n",
              " 'wealth',\n",
              " 'into',\n",
              " 'political',\n",
              " 'power.”',\n",
              " 'A',\n",
              " 'spokesperson',\n",
              " 'for',\n",
              " 'the',\n",
              " 'treasurer',\n",
              " 'said',\n",
              " 'the',\n",
              " 'state',\n",
              " 'government',\n",
              " 'would',\n",
              " 'proceed',\n",
              " 'with',\n",
              " 'the',\n",
              " 'revenue',\n",
              " 'changes,',\n",
              " 'which',\n",
              " 'were',\n",
              " '“made',\n",
              " 'in',\n",
              " 'the',\n",
              " 'interest',\n",
              " 'of',\n",
              " 'all',\n",
              " 'Queenslanders”.',\n",
              " 'The',\n",
              " 'spokesperson',\n",
              " 'noted',\n",
              " 'changes',\n",
              " 'to',\n",
              " 'the',\n",
              " 'royalties',\n",
              " 'were',\n",
              " 'passed',\n",
              " 'in',\n",
              " 'state',\n",
              " 'parliament',\n",
              " 'with',\n",
              " 'no',\n",
              " 'opposition.',\n",
              " '“They',\n",
              " 'are',\n",
              " 'designed',\n",
              " 'to',\n",
              " 'ensure',\n",
              " 'companies',\n",
              " 'operating',\n",
              " 'in',\n",
              " 'Queensland',\n",
              " 'pay',\n",
              " 'their',\n",
              " 'fair',\n",
              " 'share',\n",
              " 'and',\n",
              " 'that',\n",
              " 'Queenslanders',\n",
              " 'get',\n",
              " 'their',\n",
              " 'fair',\n",
              " 'share,”',\n",
              " 'the',\n",
              " 'spokesperson',\n",
              " 'said.',\n",
              " 'Macfarlane',\n",
              " 'said',\n",
              " 'on',\n",
              " 'Sunday',\n",
              " 'the',\n",
              " 'hike',\n",
              " 'in',\n",
              " 'coal',\n",
              " 'royalties',\n",
              " 'was',\n",
              " 'an',\n",
              " '“astronomical',\n",
              " 'increase”',\n",
              " 'and',\n",
              " 'that',\n",
              " 'companies',\n",
              " 'were',\n",
              " 'only',\n",
              " 'given',\n",
              " 'a',\n",
              " 'few',\n",
              " 'weeks’',\n",
              " 'notice',\n",
              " 'of',\n",
              " 'the',\n",
              " 'plan.',\n",
              " 'Guardian',\n",
              " 'Australia',\n",
              " 'has',\n",
              " 'contacted',\n",
              " 'BHP,',\n",
              " 'Sportsbet',\n",
              " 'and',\n",
              " 'Ladbrokes',\n",
              " 'for',\n",
              " 'comment.',\n",
              " '•',\n",
              " 'In',\n",
              " 'Australia,',\n",
              " 'the',\n",
              " 'crisis',\n",
              " 'support',\n",
              " 'service',\n",
              " 'Lifeline',\n",
              " 'is',\n",
              " '13',\n",
              " '11',\n",
              " '14.',\n",
              " 'Gambling',\n",
              " 'Help',\n",
              " 'Online',\n",
              " 'is',\n",
              " 'available',\n",
              " 'on',\n",
              " '1800',\n",
              " '858',\n",
              " '858',\n",
              " 'and',\n",
              " 'the',\n",
              " 'National',\n",
              " 'Debt',\n",
              " 'Helpline',\n",
              " 'is',\n",
              " 'at',\n",
              " '1800',\n",
              " '007',\n",
              " '007']"
            ]
          },
          "metadata": {},
          "execution_count": 58
        }
      ]
    },
    {
      "cell_type": "code",
      "source": [
        "len(tokens)"
      ],
      "metadata": {
        "colab": {
          "base_uri": "https://localhost:8080/"
        },
        "id": "ikZBgzvLg6p_",
        "outputId": "2987d258-8991-494e-efcf-6260d65921af"
      },
      "id": "ikZBgzvLg6p_",
      "execution_count": 59,
      "outputs": [
        {
          "output_type": "execute_result",
          "data": {
            "text/plain": [
              "595"
            ]
          },
          "metadata": {},
          "execution_count": 59
        }
      ]
    },
    {
      "cell_type": "code",
      "source": [
        "print(tokens[0:10])"
      ],
      "metadata": {
        "colab": {
          "base_uri": "https://localhost:8080/"
        },
        "id": "wWPzuch5g-O6",
        "outputId": "ecaaee77-f88b-4573-d5d4-6b38f3bf15d6"
      },
      "id": "wWPzuch5g-O6",
      "execution_count": 60,
      "outputs": [
        {
          "output_type": "stream",
          "name": "stdout",
          "text": [
            "['Resources', 'and', 'gambling', 'companies', 'have', 'been', 'told', 'to', '“pull', 'their']\n"
          ]
        }
      ]
    },
    {
      "cell_type": "code",
      "source": [
        "words = []\n",
        "# Looping through the tokens and make them lower case\n",
        "for word in Tokens:\n",
        "    words.append(word.lower())"
      ],
      "metadata": {
        "id": "1NCfhDrihBe9"
      },
      "id": "1NCfhDrihBe9",
      "execution_count": 61,
      "outputs": []
    },
    {
      "cell_type": "code",
      "source": [
        "import nltk\n",
        "nltk.download('stopwords')"
      ],
      "metadata": {
        "colab": {
          "base_uri": "https://localhost:8080/"
        },
        "id": "5Gernj2phGFW",
        "outputId": "21f75c47-55b3-4e36-a9a1-540a50d03206"
      },
      "id": "5Gernj2phGFW",
      "execution_count": 62,
      "outputs": [
        {
          "output_type": "stream",
          "name": "stderr",
          "text": [
            "[nltk_data] Downloading package stopwords to /root/nltk_data...\n",
            "[nltk_data]   Package stopwords is already up-to-date!\n"
          ]
        },
        {
          "output_type": "execute_result",
          "data": {
            "text/plain": [
              "True"
            ]
          },
          "metadata": {},
          "execution_count": 62
        }
      ]
    },
    {
      "cell_type": "code",
      "source": [
        "stopwords = nltk.corpus.stopwords.words('english')"
      ],
      "metadata": {
        "id": "9qiOnLp7hXPh"
      },
      "id": "9qiOnLp7hXPh",
      "execution_count": 63,
      "outputs": []
    },
    {
      "cell_type": "code",
      "source": [
        "#Appending to words_new all words that are in words but not in sw\n",
        "words_new = []\n",
        "for word in words:\n",
        "    if word not in stopwords:\n",
        "        words_new.append(word)"
      ],
      "metadata": {
        "id": "OIoe-0i2hbDj"
      },
      "id": "OIoe-0i2hbDj",
      "execution_count": 64,
      "outputs": []
    },
    {
      "cell_type": "code",
      "source": [
        "len(words_new)"
      ],
      "metadata": {
        "colab": {
          "base_uri": "https://localhost:8080/"
        },
        "id": "RA7GNFXwk0Zu",
        "outputId": "0f8a6c01-318d-4dd6-a0a9-799bb9e279be"
      },
      "id": "RA7GNFXwk0Zu",
      "execution_count": 65,
      "outputs": [
        {
          "output_type": "execute_result",
          "data": {
            "text/plain": [
              "361"
            ]
          },
          "metadata": {},
          "execution_count": 65
        }
      ]
    },
    {
      "cell_type": "code",
      "source": [
        "print(words_new[0:10])"
      ],
      "metadata": {
        "colab": {
          "base_uri": "https://localhost:8080/"
        },
        "id": "sd-h2yxxk5p_",
        "outputId": "db7bb5eb-e504-4dbd-c2c6-b1d4c73e5e25"
      },
      "id": "sd-h2yxxk5p_",
      "execution_count": 66,
      "outputs": [
        {
          "output_type": "stream",
          "name": "stdout",
          "text": [
            "['resources', 'gambling', 'companies', 'told', '“pull', 'head', 'in”', 'expect', 'public', 'sympathy']\n"
          ]
        }
      ]
    },
    {
      "cell_type": "code",
      "source": [
        "#The frequency distribution of the words\n",
        "freq_dist = nltk.FreqDist(words_new)"
      ],
      "metadata": {
        "id": "mJYjwNvMk_yr"
      },
      "id": "mJYjwNvMk_yr",
      "execution_count": 67,
      "outputs": []
    },
    {
      "cell_type": "code",
      "source": [
        "#Frequency Distribution Plot\n",
        "plt.subplots(figsize=(16,10))\n",
        "freq_dist.plot(20)"
      ],
      "metadata": {
        "colab": {
          "base_uri": "https://localhost:8080/",
          "height": 682
        },
        "id": "lC-AXDh5lEoE",
        "outputId": "43e8e118-2bb4-4ebd-8832-d118dd787969"
      },
      "id": "lC-AXDh5lEoE",
      "execution_count": 68,
      "outputs": [
        {
          "output_type": "display_data",
          "data": {
            "text/plain": [
              "<Figure size 1152x720 with 1 Axes>"
            ],
            "image/png": "[encoded data removed]"
          },
          "metadata": {
            "needs_background": "light"
          }
        },
        {
          "output_type": "execute_result",
          "data": {
            "text/plain": [
              "<matplotlib.axes._subplots.AxesSubplot at 0x7fd9a4f7cd10>"
            ]
          },
          "metadata": {},
          "execution_count": 68
        }
      ]
    },
    {
      "cell_type": "code",
      "source": [
        "#converting into string\n",
        "res=' '.join([i for i in words_new if not i.isdigit()])"
      ],
      "metadata": {
        "id": "hbCBEri-lLBt"
      },
      "id": "hbCBEri-lLBt",
      "execution_count": 56,
      "outputs": []
    },
    {
      "cell_type": "code",
      "source": [
        "plt.subplots(figsize=(16,10))\n",
        "wordcloud = WordCloud(\n",
        "                          background_color='black',\n",
        "                          max_words=100,\n",
        "                          width=1400,\n",
        "                          height=1200\n",
        "                         ).generate(res)\n",
        "plt.imshow(wordcloud)\n",
        "plt.title('NEWS ARTICLE (100 words)')\n",
        "plt.axis('off')\n",
        "plt.show()"
      ],
      "metadata": {
        "colab": {
          "base_uri": "https://localhost:8080/",
          "height": 591
        },
        "id": "Aa34KieFlVM9",
        "outputId": "1b5e712c-d734-45dd-9e38-a962ec5e0609"
      },
      "id": "Aa34KieFlVM9",
      "execution_count": 57,
      "outputs": [
        {
          "output_type": "display_data",
          "data": {
            "text/plain": [
              "<Figure size 1152x720 with 1 Axes>"
            ],
            "image/png": "[encoded data removed]"
          },
          "metadata": {
            "needs_background": "light"
          }
        }
      ]
    }
  ],
  "metadata": {
    "kernelspec": {
      "display_name": "Python 3",
      "language": "python",
      "name": "python3"
    },
    "language_info": {
      "codemirror_mode": {
        "name": "ipython",
        "version": 3
      },
      "file_extension": ".py",
      "mimetype": "text/x-python",
      "name": "python",
      "nbconvert_exporter": "python",
      "pygments_lexer": "ipython3",
      "version": "3.8.8"
    },
    "colab": {
      "provenance": []
    }
  },
  "nbformat": 4,
  "nbformat_minor": 5
}